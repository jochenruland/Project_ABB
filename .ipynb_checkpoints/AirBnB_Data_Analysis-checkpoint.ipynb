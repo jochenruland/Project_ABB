{
 "cells": [
  {
   "cell_type": "markdown",
   "metadata": {},
   "source": [
    "# Getting insights in different aspects of AirBnB prices in Seattle"
   ]
  },
  {
   "cell_type": "code",
   "execution_count": 2,
   "metadata": {
    "scrolled": true
   },
   "outputs": [],
   "source": [
    "# import of relevant libaries for the analysis\n",
    "import numpy as np\n",
    "import pandas as pd\n",
    "import matplotlib.pyplot as plt\n",
    "from sklearn.linear_model import LinearRegression\n",
    "from sklearn.model_selection import train_test_split\n",
    "from sklearn.metrics import r2_score, mean_squared_error\n",
    "import seaborn as sb\n",
    "%matplotlib inline\n",
    "\n",
    "# reading the data from the working directory\n",
    "cal_s_df = pd.read_csv('./calendar_S.csv')\n",
    "listings_s_df = pd.read_csv('./listings_S.csv')\n",
    "reviews_s_df = pd.read_csv('./reviews_S.csv')\n"
   ]
  },
  {
   "cell_type": "markdown",
   "metadata": {},
   "source": [
    "## A quick look at the data"
   ]
  },
  {
   "cell_type": "code",
   "execution_count": 3,
   "metadata": {
    "scrolled": true
   },
   "outputs": [
    {
     "name": "stdout",
     "output_type": "stream",
     "text": [
      "<class 'pandas.core.frame.DataFrame'>\n",
      "RangeIndex: 1393570 entries, 0 to 1393569\n",
      "Data columns (total 4 columns):\n",
      " #   Column      Non-Null Count    Dtype \n",
      "---  ------      --------------    ----- \n",
      " 0   listing_id  1393570 non-null  int64 \n",
      " 1   date        1393570 non-null  object\n",
      " 2   available   1393570 non-null  object\n",
      " 3   price       934542 non-null   object\n",
      "dtypes: int64(1), object(3)\n",
      "memory usage: 26.6+ MB\n",
      "None\n"
     ]
    },
    {
     "data": {
      "text/html": [
       "<div>\n",
       "<style scoped>\n",
       "    .dataframe tbody tr th:only-of-type {\n",
       "        vertical-align: middle;\n",
       "    }\n",
       "\n",
       "    .dataframe tbody tr th {\n",
       "        vertical-align: top;\n",
       "    }\n",
       "\n",
       "    .dataframe thead th {\n",
       "        text-align: right;\n",
       "    }\n",
       "</style>\n",
       "<table border=\"1\" class=\"dataframe\">\n",
       "  <thead>\n",
       "    <tr style=\"text-align: right;\">\n",
       "      <th></th>\n",
       "      <th>listing_id</th>\n",
       "      <th>date</th>\n",
       "      <th>available</th>\n",
       "      <th>price</th>\n",
       "    </tr>\n",
       "  </thead>\n",
       "  <tbody>\n",
       "    <tr>\n",
       "      <th>0</th>\n",
       "      <td>241032</td>\n",
       "      <td>2016-01-04</td>\n",
       "      <td>t</td>\n",
       "      <td>$85.00</td>\n",
       "    </tr>\n",
       "    <tr>\n",
       "      <th>1</th>\n",
       "      <td>241032</td>\n",
       "      <td>2016-01-05</td>\n",
       "      <td>t</td>\n",
       "      <td>$85.00</td>\n",
       "    </tr>\n",
       "    <tr>\n",
       "      <th>2</th>\n",
       "      <td>241032</td>\n",
       "      <td>2016-01-06</td>\n",
       "      <td>f</td>\n",
       "      <td>NaN</td>\n",
       "    </tr>\n",
       "    <tr>\n",
       "      <th>3</th>\n",
       "      <td>241032</td>\n",
       "      <td>2016-01-07</td>\n",
       "      <td>f</td>\n",
       "      <td>NaN</td>\n",
       "    </tr>\n",
       "    <tr>\n",
       "      <th>4</th>\n",
       "      <td>241032</td>\n",
       "      <td>2016-01-08</td>\n",
       "      <td>f</td>\n",
       "      <td>NaN</td>\n",
       "    </tr>\n",
       "  </tbody>\n",
       "</table>\n",
       "</div>"
      ],
      "text/plain": [
       "   listing_id        date available   price\n",
       "0      241032  2016-01-04         t  $85.00\n",
       "1      241032  2016-01-05         t  $85.00\n",
       "2      241032  2016-01-06         f     NaN\n",
       "3      241032  2016-01-07         f     NaN\n",
       "4      241032  2016-01-08         f     NaN"
      ]
     },
     "execution_count": 3,
     "metadata": {},
     "output_type": "execute_result"
    }
   ],
   "source": [
    "print(cal_s_df.info())\n",
    "cal_s_df.head()"
   ]
  },
  {
   "cell_type": "code",
   "execution_count": 4,
   "metadata": {
    "scrolled": true
   },
   "outputs": [
    {
     "name": "stdout",
     "output_type": "stream",
     "text": [
      "<class 'pandas.core.frame.DataFrame'>\n",
      "RangeIndex: 3818 entries, 0 to 3817\n",
      "Data columns (total 92 columns):\n",
      " #   Column                            Non-Null Count  Dtype  \n",
      "---  ------                            --------------  -----  \n",
      " 0   id                                3818 non-null   int64  \n",
      " 1   listing_url                       3818 non-null   object \n",
      " 2   scrape_id                         3818 non-null   int64  \n",
      " 3   last_scraped                      3818 non-null   object \n",
      " 4   name                              3818 non-null   object \n",
      " 5   summary                           3641 non-null   object \n",
      " 6   space                             3249 non-null   object \n",
      " 7   description                       3818 non-null   object \n",
      " 8   experiences_offered               3818 non-null   object \n",
      " 9   neighborhood_overview             2786 non-null   object \n",
      " 10  notes                             2212 non-null   object \n",
      " 11  transit                           2884 non-null   object \n",
      " 12  thumbnail_url                     3498 non-null   object \n",
      " 13  medium_url                        3498 non-null   object \n",
      " 14  picture_url                       3818 non-null   object \n",
      " 15  xl_picture_url                    3498 non-null   object \n",
      " 16  host_id                           3818 non-null   int64  \n",
      " 17  host_url                          3818 non-null   object \n",
      " 18  host_name                         3816 non-null   object \n",
      " 19  host_since                        3816 non-null   object \n",
      " 20  host_location                     3810 non-null   object \n",
      " 21  host_about                        2959 non-null   object \n",
      " 22  host_response_time                3295 non-null   object \n",
      " 23  host_response_rate                3295 non-null   object \n",
      " 24  host_acceptance_rate              3045 non-null   object \n",
      " 25  host_is_superhost                 3816 non-null   object \n",
      " 26  host_thumbnail_url                3816 non-null   object \n",
      " 27  host_picture_url                  3816 non-null   object \n",
      " 28  host_neighbourhood                3518 non-null   object \n",
      " 29  host_listings_count               3816 non-null   float64\n",
      " 30  host_total_listings_count         3816 non-null   float64\n",
      " 31  host_verifications                3818 non-null   object \n",
      " 32  host_has_profile_pic              3816 non-null   object \n",
      " 33  host_identity_verified            3816 non-null   object \n",
      " 34  street                            3818 non-null   object \n",
      " 35  neighbourhood                     3402 non-null   object \n",
      " 36  neighbourhood_cleansed            3818 non-null   object \n",
      " 37  neighbourhood_group_cleansed      3818 non-null   object \n",
      " 38  city                              3818 non-null   object \n",
      " 39  state                             3818 non-null   object \n",
      " 40  zipcode                           3811 non-null   object \n",
      " 41  market                            3818 non-null   object \n",
      " 42  smart_location                    3818 non-null   object \n",
      " 43  country_code                      3818 non-null   object \n",
      " 44  country                           3818 non-null   object \n",
      " 45  latitude                          3818 non-null   float64\n",
      " 46  longitude                         3818 non-null   float64\n",
      " 47  is_location_exact                 3818 non-null   object \n",
      " 48  property_type                     3817 non-null   object \n",
      " 49  room_type                         3818 non-null   object \n",
      " 50  accommodates                      3818 non-null   int64  \n",
      " 51  bathrooms                         3802 non-null   float64\n",
      " 52  bedrooms                          3812 non-null   float64\n",
      " 53  beds                              3817 non-null   float64\n",
      " 54  bed_type                          3818 non-null   object \n",
      " 55  amenities                         3818 non-null   object \n",
      " 56  square_feet                       97 non-null     float64\n",
      " 57  price                             3818 non-null   object \n",
      " 58  weekly_price                      2009 non-null   object \n",
      " 59  monthly_price                     1517 non-null   object \n",
      " 60  security_deposit                  1866 non-null   object \n",
      " 61  cleaning_fee                      2788 non-null   object \n",
      " 62  guests_included                   3818 non-null   int64  \n",
      " 63  extra_people                      3818 non-null   object \n",
      " 64  minimum_nights                    3818 non-null   int64  \n",
      " 65  maximum_nights                    3818 non-null   int64  \n",
      " 66  calendar_updated                  3818 non-null   object \n",
      " 67  has_availability                  3818 non-null   object \n",
      " 68  availability_30                   3818 non-null   int64  \n",
      " 69  availability_60                   3818 non-null   int64  \n",
      " 70  availability_90                   3818 non-null   int64  \n",
      " 71  availability_365                  3818 non-null   int64  \n",
      " 72  calendar_last_scraped             3818 non-null   object \n",
      " 73  number_of_reviews                 3818 non-null   int64  \n",
      " 74  first_review                      3191 non-null   object \n",
      " 75  last_review                       3191 non-null   object \n",
      " 76  review_scores_rating              3171 non-null   float64\n",
      " 77  review_scores_accuracy            3160 non-null   float64\n",
      " 78  review_scores_cleanliness         3165 non-null   float64\n",
      " 79  review_scores_checkin             3160 non-null   float64\n",
      " 80  review_scores_communication       3167 non-null   float64\n",
      " 81  review_scores_location            3163 non-null   float64\n",
      " 82  review_scores_value               3162 non-null   float64\n",
      " 83  requires_license                  3818 non-null   object \n",
      " 84  license                           0 non-null      float64\n",
      " 85  jurisdiction_names                3818 non-null   object \n",
      " 86  instant_bookable                  3818 non-null   object \n",
      " 87  cancellation_policy               3818 non-null   object \n",
      " 88  require_guest_profile_picture     3818 non-null   object \n",
      " 89  require_guest_phone_verification  3818 non-null   object \n",
      " 90  calculated_host_listings_count    3818 non-null   int64  \n",
      " 91  reviews_per_month                 3191 non-null   float64\n",
      "dtypes: float64(17), int64(13), object(62)\n",
      "memory usage: 1.8+ MB\n",
      "None\n"
     ]
    },
    {
     "data": {
      "text/html": [
       "<div>\n",
       "<style scoped>\n",
       "    .dataframe tbody tr th:only-of-type {\n",
       "        vertical-align: middle;\n",
       "    }\n",
       "\n",
       "    .dataframe tbody tr th {\n",
       "        vertical-align: top;\n",
       "    }\n",
       "\n",
       "    .dataframe thead th {\n",
       "        text-align: right;\n",
       "    }\n",
       "</style>\n",
       "<table border=\"1\" class=\"dataframe\">\n",
       "  <thead>\n",
       "    <tr style=\"text-align: right;\">\n",
       "      <th></th>\n",
       "      <th>id</th>\n",
       "      <th>listing_url</th>\n",
       "      <th>scrape_id</th>\n",
       "      <th>last_scraped</th>\n",
       "      <th>name</th>\n",
       "      <th>summary</th>\n",
       "      <th>space</th>\n",
       "      <th>description</th>\n",
       "      <th>experiences_offered</th>\n",
       "      <th>neighborhood_overview</th>\n",
       "      <th>...</th>\n",
       "      <th>review_scores_value</th>\n",
       "      <th>requires_license</th>\n",
       "      <th>license</th>\n",
       "      <th>jurisdiction_names</th>\n",
       "      <th>instant_bookable</th>\n",
       "      <th>cancellation_policy</th>\n",
       "      <th>require_guest_profile_picture</th>\n",
       "      <th>require_guest_phone_verification</th>\n",
       "      <th>calculated_host_listings_count</th>\n",
       "      <th>reviews_per_month</th>\n",
       "    </tr>\n",
       "  </thead>\n",
       "  <tbody>\n",
       "    <tr>\n",
       "      <th>0</th>\n",
       "      <td>241032</td>\n",
       "      <td>https://www.airbnb.com/rooms/241032</td>\n",
       "      <td>20160104002432</td>\n",
       "      <td>2016-01-04</td>\n",
       "      <td>Stylish Queen Anne Apartment</td>\n",
       "      <td>NaN</td>\n",
       "      <td>Make your self at home in this charming one-be...</td>\n",
       "      <td>Make your self at home in this charming one-be...</td>\n",
       "      <td>none</td>\n",
       "      <td>NaN</td>\n",
       "      <td>...</td>\n",
       "      <td>10.0</td>\n",
       "      <td>f</td>\n",
       "      <td>NaN</td>\n",
       "      <td>WASHINGTON</td>\n",
       "      <td>f</td>\n",
       "      <td>moderate</td>\n",
       "      <td>f</td>\n",
       "      <td>f</td>\n",
       "      <td>2</td>\n",
       "      <td>4.07</td>\n",
       "    </tr>\n",
       "    <tr>\n",
       "      <th>1</th>\n",
       "      <td>953595</td>\n",
       "      <td>https://www.airbnb.com/rooms/953595</td>\n",
       "      <td>20160104002432</td>\n",
       "      <td>2016-01-04</td>\n",
       "      <td>Bright &amp; Airy Queen Anne Apartment</td>\n",
       "      <td>Chemically sensitive? We've removed the irrita...</td>\n",
       "      <td>Beautiful, hypoallergenic apartment in an extr...</td>\n",
       "      <td>Chemically sensitive? We've removed the irrita...</td>\n",
       "      <td>none</td>\n",
       "      <td>Queen Anne is a wonderful, truly functional vi...</td>\n",
       "      <td>...</td>\n",
       "      <td>10.0</td>\n",
       "      <td>f</td>\n",
       "      <td>NaN</td>\n",
       "      <td>WASHINGTON</td>\n",
       "      <td>f</td>\n",
       "      <td>strict</td>\n",
       "      <td>t</td>\n",
       "      <td>t</td>\n",
       "      <td>6</td>\n",
       "      <td>1.48</td>\n",
       "    </tr>\n",
       "    <tr>\n",
       "      <th>2</th>\n",
       "      <td>3308979</td>\n",
       "      <td>https://www.airbnb.com/rooms/3308979</td>\n",
       "      <td>20160104002432</td>\n",
       "      <td>2016-01-04</td>\n",
       "      <td>New Modern House-Amazing water view</td>\n",
       "      <td>New modern house built in 2013.  Spectacular s...</td>\n",
       "      <td>Our house is modern, light and fresh with a wa...</td>\n",
       "      <td>New modern house built in 2013.  Spectacular s...</td>\n",
       "      <td>none</td>\n",
       "      <td>Upper Queen Anne is a charming neighborhood fu...</td>\n",
       "      <td>...</td>\n",
       "      <td>10.0</td>\n",
       "      <td>f</td>\n",
       "      <td>NaN</td>\n",
       "      <td>WASHINGTON</td>\n",
       "      <td>f</td>\n",
       "      <td>strict</td>\n",
       "      <td>f</td>\n",
       "      <td>f</td>\n",
       "      <td>2</td>\n",
       "      <td>1.15</td>\n",
       "    </tr>\n",
       "    <tr>\n",
       "      <th>3</th>\n",
       "      <td>7421966</td>\n",
       "      <td>https://www.airbnb.com/rooms/7421966</td>\n",
       "      <td>20160104002432</td>\n",
       "      <td>2016-01-04</td>\n",
       "      <td>Queen Anne Chateau</td>\n",
       "      <td>A charming apartment that sits atop Queen Anne...</td>\n",
       "      <td>NaN</td>\n",
       "      <td>A charming apartment that sits atop Queen Anne...</td>\n",
       "      <td>none</td>\n",
       "      <td>NaN</td>\n",
       "      <td>...</td>\n",
       "      <td>NaN</td>\n",
       "      <td>f</td>\n",
       "      <td>NaN</td>\n",
       "      <td>WASHINGTON</td>\n",
       "      <td>f</td>\n",
       "      <td>flexible</td>\n",
       "      <td>f</td>\n",
       "      <td>f</td>\n",
       "      <td>1</td>\n",
       "      <td>NaN</td>\n",
       "    </tr>\n",
       "    <tr>\n",
       "      <th>4</th>\n",
       "      <td>278830</td>\n",
       "      <td>https://www.airbnb.com/rooms/278830</td>\n",
       "      <td>20160104002432</td>\n",
       "      <td>2016-01-04</td>\n",
       "      <td>Charming craftsman 3 bdm house</td>\n",
       "      <td>Cozy family craftman house in beautiful neighb...</td>\n",
       "      <td>Cozy family craftman house in beautiful neighb...</td>\n",
       "      <td>Cozy family craftman house in beautiful neighb...</td>\n",
       "      <td>none</td>\n",
       "      <td>We are in the beautiful neighborhood of Queen ...</td>\n",
       "      <td>...</td>\n",
       "      <td>9.0</td>\n",
       "      <td>f</td>\n",
       "      <td>NaN</td>\n",
       "      <td>WASHINGTON</td>\n",
       "      <td>f</td>\n",
       "      <td>strict</td>\n",
       "      <td>f</td>\n",
       "      <td>f</td>\n",
       "      <td>1</td>\n",
       "      <td>0.89</td>\n",
       "    </tr>\n",
       "  </tbody>\n",
       "</table>\n",
       "<p>5 rows × 92 columns</p>\n",
       "</div>"
      ],
      "text/plain": [
       "        id                           listing_url       scrape_id last_scraped  \\\n",
       "0   241032   https://www.airbnb.com/rooms/241032  20160104002432   2016-01-04   \n",
       "1   953595   https://www.airbnb.com/rooms/953595  20160104002432   2016-01-04   \n",
       "2  3308979  https://www.airbnb.com/rooms/3308979  20160104002432   2016-01-04   \n",
       "3  7421966  https://www.airbnb.com/rooms/7421966  20160104002432   2016-01-04   \n",
       "4   278830   https://www.airbnb.com/rooms/278830  20160104002432   2016-01-04   \n",
       "\n",
       "                                  name  \\\n",
       "0         Stylish Queen Anne Apartment   \n",
       "1   Bright & Airy Queen Anne Apartment   \n",
       "2  New Modern House-Amazing water view   \n",
       "3                   Queen Anne Chateau   \n",
       "4       Charming craftsman 3 bdm house   \n",
       "\n",
       "                                             summary  \\\n",
       "0                                                NaN   \n",
       "1  Chemically sensitive? We've removed the irrita...   \n",
       "2  New modern house built in 2013.  Spectacular s...   \n",
       "3  A charming apartment that sits atop Queen Anne...   \n",
       "4  Cozy family craftman house in beautiful neighb...   \n",
       "\n",
       "                                               space  \\\n",
       "0  Make your self at home in this charming one-be...   \n",
       "1  Beautiful, hypoallergenic apartment in an extr...   \n",
       "2  Our house is modern, light and fresh with a wa...   \n",
       "3                                                NaN   \n",
       "4  Cozy family craftman house in beautiful neighb...   \n",
       "\n",
       "                                         description experiences_offered  \\\n",
       "0  Make your self at home in this charming one-be...                none   \n",
       "1  Chemically sensitive? We've removed the irrita...                none   \n",
       "2  New modern house built in 2013.  Spectacular s...                none   \n",
       "3  A charming apartment that sits atop Queen Anne...                none   \n",
       "4  Cozy family craftman house in beautiful neighb...                none   \n",
       "\n",
       "                               neighborhood_overview  ... review_scores_value  \\\n",
       "0                                                NaN  ...                10.0   \n",
       "1  Queen Anne is a wonderful, truly functional vi...  ...                10.0   \n",
       "2  Upper Queen Anne is a charming neighborhood fu...  ...                10.0   \n",
       "3                                                NaN  ...                 NaN   \n",
       "4  We are in the beautiful neighborhood of Queen ...  ...                 9.0   \n",
       "\n",
       "  requires_license license jurisdiction_names instant_bookable  \\\n",
       "0                f     NaN         WASHINGTON                f   \n",
       "1                f     NaN         WASHINGTON                f   \n",
       "2                f     NaN         WASHINGTON                f   \n",
       "3                f     NaN         WASHINGTON                f   \n",
       "4                f     NaN         WASHINGTON                f   \n",
       "\n",
       "  cancellation_policy  require_guest_profile_picture  \\\n",
       "0            moderate                              f   \n",
       "1              strict                              t   \n",
       "2              strict                              f   \n",
       "3            flexible                              f   \n",
       "4              strict                              f   \n",
       "\n",
       "  require_guest_phone_verification calculated_host_listings_count  \\\n",
       "0                                f                              2   \n",
       "1                                t                              6   \n",
       "2                                f                              2   \n",
       "3                                f                              1   \n",
       "4                                f                              1   \n",
       "\n",
       "  reviews_per_month  \n",
       "0              4.07  \n",
       "1              1.48  \n",
       "2              1.15  \n",
       "3               NaN  \n",
       "4              0.89  \n",
       "\n",
       "[5 rows x 92 columns]"
      ]
     },
     "execution_count": 4,
     "metadata": {},
     "output_type": "execute_result"
    }
   ],
   "source": [
    "print(listings_s_df.info())\n",
    "listings_s_df.head()"
   ]
  },
  {
   "cell_type": "code",
   "execution_count": 5,
   "metadata": {},
   "outputs": [
    {
     "name": "stdout",
     "output_type": "stream",
     "text": [
      "<class 'pandas.core.frame.DataFrame'>\n",
      "RangeIndex: 84849 entries, 0 to 84848\n",
      "Data columns (total 6 columns):\n",
      " #   Column         Non-Null Count  Dtype \n",
      "---  ------         --------------  ----- \n",
      " 0   listing_id     84849 non-null  int64 \n",
      " 1   id             84849 non-null  int64 \n",
      " 2   date           84849 non-null  object\n",
      " 3   reviewer_id    84849 non-null  int64 \n",
      " 4   reviewer_name  84849 non-null  object\n",
      " 5   comments       84831 non-null  object\n",
      "dtypes: int64(3), object(3)\n",
      "memory usage: 2.9+ MB\n",
      "None\n"
     ]
    },
    {
     "data": {
      "text/html": [
       "<div>\n",
       "<style scoped>\n",
       "    .dataframe tbody tr th:only-of-type {\n",
       "        vertical-align: middle;\n",
       "    }\n",
       "\n",
       "    .dataframe tbody tr th {\n",
       "        vertical-align: top;\n",
       "    }\n",
       "\n",
       "    .dataframe thead th {\n",
       "        text-align: right;\n",
       "    }\n",
       "</style>\n",
       "<table border=\"1\" class=\"dataframe\">\n",
       "  <thead>\n",
       "    <tr style=\"text-align: right;\">\n",
       "      <th></th>\n",
       "      <th>listing_id</th>\n",
       "      <th>id</th>\n",
       "      <th>date</th>\n",
       "      <th>reviewer_id</th>\n",
       "      <th>reviewer_name</th>\n",
       "      <th>comments</th>\n",
       "    </tr>\n",
       "  </thead>\n",
       "  <tbody>\n",
       "    <tr>\n",
       "      <th>0</th>\n",
       "      <td>7202016</td>\n",
       "      <td>38917982</td>\n",
       "      <td>2015-07-19</td>\n",
       "      <td>28943674</td>\n",
       "      <td>Bianca</td>\n",
       "      <td>Cute and cozy place. Perfect location to every...</td>\n",
       "    </tr>\n",
       "    <tr>\n",
       "      <th>1</th>\n",
       "      <td>7202016</td>\n",
       "      <td>39087409</td>\n",
       "      <td>2015-07-20</td>\n",
       "      <td>32440555</td>\n",
       "      <td>Frank</td>\n",
       "      <td>Kelly has a great room in a very central locat...</td>\n",
       "    </tr>\n",
       "    <tr>\n",
       "      <th>2</th>\n",
       "      <td>7202016</td>\n",
       "      <td>39820030</td>\n",
       "      <td>2015-07-26</td>\n",
       "      <td>37722850</td>\n",
       "      <td>Ian</td>\n",
       "      <td>Very spacious apartment, and in a great neighb...</td>\n",
       "    </tr>\n",
       "    <tr>\n",
       "      <th>3</th>\n",
       "      <td>7202016</td>\n",
       "      <td>40813543</td>\n",
       "      <td>2015-08-02</td>\n",
       "      <td>33671805</td>\n",
       "      <td>George</td>\n",
       "      <td>Close to Seattle Center and all it has to offe...</td>\n",
       "    </tr>\n",
       "    <tr>\n",
       "      <th>4</th>\n",
       "      <td>7202016</td>\n",
       "      <td>41986501</td>\n",
       "      <td>2015-08-10</td>\n",
       "      <td>34959538</td>\n",
       "      <td>Ming</td>\n",
       "      <td>Kelly was a great host and very accommodating ...</td>\n",
       "    </tr>\n",
       "  </tbody>\n",
       "</table>\n",
       "</div>"
      ],
      "text/plain": [
       "   listing_id        id        date  reviewer_id reviewer_name  \\\n",
       "0     7202016  38917982  2015-07-19     28943674        Bianca   \n",
       "1     7202016  39087409  2015-07-20     32440555         Frank   \n",
       "2     7202016  39820030  2015-07-26     37722850           Ian   \n",
       "3     7202016  40813543  2015-08-02     33671805        George   \n",
       "4     7202016  41986501  2015-08-10     34959538          Ming   \n",
       "\n",
       "                                            comments  \n",
       "0  Cute and cozy place. Perfect location to every...  \n",
       "1  Kelly has a great room in a very central locat...  \n",
       "2  Very spacious apartment, and in a great neighb...  \n",
       "3  Close to Seattle Center and all it has to offe...  \n",
       "4  Kelly was a great host and very accommodating ...  "
      ]
     },
     "execution_count": 5,
     "metadata": {},
     "output_type": "execute_result"
    }
   ],
   "source": [
    "print(reviews_s_df.info())\n",
    "reviews_s_df.head()"
   ]
  },
  {
   "cell_type": "code",
   "execution_count": 6,
   "metadata": {
    "scrolled": true
   },
   "outputs": [
    {
     "name": "stdout",
     "output_type": "stream",
     "text": [
      "listing_id     int64\n",
      "date          object\n",
      "available     object\n",
      "price         object\n",
      "dtype: object \n",
      "\n",
      "Index(['price'], dtype='object') \n",
      "\n"
     ]
    }
   ],
   "source": [
    "#Check the data type of the different columns\n",
    "print(cal_s_df.dtypes, '\\n')\n",
    "\n",
    "#Find out the columns with NaN Values\n",
    "print(cal_s_df.columns[cal_s_df.isnull().mean() != 0], '\\n')"
   ]
  },
  {
   "cell_type": "code",
   "execution_count": 7,
   "metadata": {
    "scrolled": true
   },
   "outputs": [
    {
     "name": "stdout",
     "output_type": "stream",
     "text": [
      "0.32938998399793334\n",
      "0.6706100160020667\n"
     ]
    }
   ],
   "source": [
    "#Find out the % of bookings where price is missing (isnull()) and not missing (notnull())\n",
    "print(cal_s_df['price'].isnull().mean())\n",
    "print(1-cal_s_df['price'].isnull().mean())\n"
   ]
  },
  {
   "cell_type": "code",
   "execution_count": 8,
   "metadata": {},
   "outputs": [
    {
     "data": {
      "text/plain": [
       "count    3818.0\n",
       "mean      365.0\n",
       "std         0.0\n",
       "min       365.0\n",
       "25%       365.0\n",
       "50%       365.0\n",
       "75%       365.0\n",
       "max       365.0\n",
       "Name: listing_id, dtype: float64"
      ]
     },
     "execution_count": 8,
     "metadata": {},
     "output_type": "execute_result"
    }
   ],
   "source": [
    "#Get an understanding of the other columens\n",
    "#listing_id\n",
    "list_id_vals = cal_s_df['listing_id'].value_counts()\n",
    "list_id_vals.describe()\n"
   ]
  },
  {
   "cell_type": "code",
   "execution_count": 9,
   "metadata": {},
   "outputs": [
    {
     "name": "stdout",
     "output_type": "stream",
     "text": [
      "count        1393570\n",
      "unique           365\n",
      "top       2016-12-13\n",
      "freq            3818\n",
      "Name: date, dtype: object \n",
      " \n",
      " 2016-01-04 \n",
      " 2017-01-02\n"
     ]
    }
   ],
   "source": [
    "#date\n",
    "print(cal_s_df['date'].describe(), '\\n', '\\n', cal_s_df['date'].min(), '\\n', cal_s_df['date'].max()) \n"
   ]
  },
  {
   "cell_type": "code",
   "execution_count": 10,
   "metadata": {},
   "outputs": [
    {
     "data": {
      "text/plain": [
       "t    0.67061\n",
       "f    0.32939\n",
       "Name: available, dtype: float64"
      ]
     },
     "execution_count": 10,
     "metadata": {},
     "output_type": "execute_result"
    }
   ],
   "source": [
    "#available\n",
    "av_vals = cal_s_df['available'].value_counts()\n",
    "av_vals/cal_s_df.shape[0]"
   ]
  },
  {
   "cell_type": "code",
   "execution_count": 11,
   "metadata": {},
   "outputs": [
    {
     "name": "stdout",
     "output_type": "stream",
     "text": [
      "0.0 \n",
      "\n",
      "1.0\n"
     ]
    }
   ],
   "source": [
    "#The split in the field 'available' corresponds to the percentage of nan values in 'price'; so price is stated when available is True (t) - let's verify\n",
    "\n",
    "print(cal_s_df[cal_s_df['available'] == 't']['price'].isnull().mean(),'\\n')\n",
    "print(cal_s_df[cal_s_df['available'] == 'f']['price'].isnull().mean())\n"
   ]
  },
  {
   "cell_type": "markdown",
   "metadata": {},
   "source": [
    "## Do some cleansing and conversions on the calender dataset"
   ]
  },
  {
   "cell_type": "code",
   "execution_count": 12,
   "metadata": {},
   "outputs": [
    {
     "name": "stdout",
     "output_type": "stream",
     "text": [
      "(934542, 4) \n",
      "\n"
     ]
    },
    {
     "name": "stderr",
     "output_type": "stream",
     "text": [
      "<ipython-input-12-c5e85b4b6883>:6: SettingWithCopyWarning: \n",
      "A value is trying to be set on a copy of a slice from a DataFrame.\n",
      "Try using .loc[row_indexer,col_indexer] = value instead\n",
      "\n",
      "See the caveats in the documentation: https://pandas.pydata.org/pandas-docs/stable/user_guide/indexing.html#returning-a-view-versus-a-copy\n",
      "  cal_s_df_price['price_f'] = cal_s_df_price['price'].str.replace('$', '')\n",
      "<ipython-input-12-c5e85b4b6883>:7: SettingWithCopyWarning: \n",
      "A value is trying to be set on a copy of a slice from a DataFrame.\n",
      "Try using .loc[row_indexer,col_indexer] = value instead\n",
      "\n",
      "See the caveats in the documentation: https://pandas.pydata.org/pandas-docs/stable/user_guide/indexing.html#returning-a-view-versus-a-copy\n",
      "  cal_s_df_price['price_f'] = cal_s_df_price['price_f'].str.replace(',','')\n"
     ]
    },
    {
     "name": "stdout",
     "output_type": "stream",
     "text": [
      "<class 'pandas.core.frame.DataFrame'>\n",
      "Int64Index: 934542 entries, 0 to 1393213\n",
      "Data columns (total 5 columns):\n",
      " #   Column      Non-Null Count   Dtype  \n",
      "---  ------      --------------   -----  \n",
      " 0   listing_id  934542 non-null  int64  \n",
      " 1   date        934542 non-null  object \n",
      " 2   available   934542 non-null  object \n",
      " 3   price       934542 non-null  object \n",
      " 4   price_f     934542 non-null  float64\n",
      "dtypes: float64(1), int64(1), object(3)\n",
      "memory usage: 32.1+ MB\n",
      "None \n",
      "\n"
     ]
    },
    {
     "name": "stderr",
     "output_type": "stream",
     "text": [
      "<ipython-input-12-c5e85b4b6883>:8: SettingWithCopyWarning: \n",
      "A value is trying to be set on a copy of a slice from a DataFrame.\n",
      "Try using .loc[row_indexer,col_indexer] = value instead\n",
      "\n",
      "See the caveats in the documentation: https://pandas.pydata.org/pandas-docs/stable/user_guide/indexing.html#returning-a-view-versus-a-copy\n",
      "  cal_s_df_price['price_f'] = cal_s_df_price['price_f'].astype('float')\n"
     ]
    }
   ],
   "source": [
    "#Let's continue the analysis with the data incl. 'price' creating a subset dataframe from cal_s_df where 'price' is not null\n",
    "cal_s_df_price = cal_s_df[cal_s_df['price'].notnull()]\n",
    "print(cal_s_df_price.shape,'\\n')\n",
    "\n",
    "#And converting 'price' to float\n",
    "cal_s_df_price['price_f'] = cal_s_df_price['price'].str.replace('$', '')\n",
    "cal_s_df_price['price_f'] = cal_s_df_price['price_f'].str.replace(',','')\n",
    "cal_s_df_price['price_f'] = cal_s_df_price['price_f'].astype('float')\n",
    "\n",
    "print(cal_s_df_price.info(),'\\n')\n",
    "cal_s_df_price.tail();"
   ]
  },
  {
   "cell_type": "code",
   "execution_count": 13,
   "metadata": {},
   "outputs": [
    {
     "data": {
      "text/plain": [
       "t    934542\n",
       "Name: available, dtype: int64"
      ]
     },
     "execution_count": 13,
     "metadata": {},
     "output_type": "execute_result"
    }
   ],
   "source": [
    "cal_s_df_price['available'].value_counts()"
   ]
  },
  {
   "cell_type": "code",
   "execution_count": 14,
   "metadata": {},
   "outputs": [
    {
     "name": "stdout",
     "output_type": "stream",
     "text": [
      "<class 'pandas.core.frame.DataFrame'>\n",
      "Int64Index: 934542 entries, 0 to 1393213\n",
      "Data columns (total 5 columns):\n",
      " #   Column      Non-Null Count   Dtype         \n",
      "---  ------      --------------   -----         \n",
      " 0   listing_id  934542 non-null  int64         \n",
      " 1   date        934542 non-null  datetime64[ns]\n",
      " 2   available   934542 non-null  object        \n",
      " 3   price       934542 non-null  object        \n",
      " 4   price_f     934542 non-null  float64       \n",
      "dtypes: datetime64[ns](1), float64(1), int64(1), object(2)\n",
      "memory usage: 35.6+ MB\n"
     ]
    },
    {
     "name": "stderr",
     "output_type": "stream",
     "text": [
      "<ipython-input-14-5b6e0c938755>:2: SettingWithCopyWarning: \n",
      "A value is trying to be set on a copy of a slice from a DataFrame.\n",
      "Try using .loc[row_indexer,col_indexer] = value instead\n",
      "\n",
      "See the caveats in the documentation: https://pandas.pydata.org/pandas-docs/stable/user_guide/indexing.html#returning-a-view-versus-a-copy\n",
      "  cal_s_df_price['date'] = cal_s_df_price['date'].astype('datetime64[ns]')\n"
     ]
    }
   ],
   "source": [
    "#Convert 'date' in cal_s_df_price to datatype datetime and check conversion\n",
    "cal_s_df_price['date'] = cal_s_df_price['date'].astype('datetime64[ns]')\n",
    "#Alternative way for conversion: cal_s_df_price['date'] = pd.to_datetime(cal_s_df_price['date'])\n",
    "\n",
    "cal_s_df_price.info()"
   ]
  },
  {
   "cell_type": "code",
   "execution_count": 15,
   "metadata": {},
   "outputs": [
    {
     "data": {
      "text/plain": [
       "DatetimeIndex(['2016-01-04', '2016-01-05', '2016-01-13', '2016-01-14',\n",
       "               '2016-01-18', '2016-01-19', '2016-01-20', '2016-01-24',\n",
       "               '2016-01-25', '2016-01-26',\n",
       "               ...\n",
       "               '2016-06-28', '2016-06-29', '2016-06-30', '2016-01-04',\n",
       "               '2016-01-05', '2016-01-06', '2016-01-07', '2016-01-10',\n",
       "               '2016-01-11', '2016-01-12'],\n",
       "              dtype='datetime64[ns]', name='date', length=934542, freq=None)"
      ]
     },
     "execution_count": 15,
     "metadata": {},
     "output_type": "execute_result"
    }
   ],
   "source": [
    "#Setting the index of the calender dataframe to 'date' column & check new index\n",
    "cal_s_df_price = cal_s_df_price.set_index('date')\n",
    "cal_s_df_price.index"
   ]
  },
  {
   "cell_type": "code",
   "execution_count": 16,
   "metadata": {
    "scrolled": true
   },
   "outputs": [
    {
     "name": "stdout",
     "output_type": "stream",
     "text": [
      "2016-01-04 00:00:00 \n",
      " 2017-01-02 00:00:00 \n",
      " (934542, 7) \n",
      "\n"
     ]
    },
    {
     "data": {
      "text/html": [
       "<div>\n",
       "<style scoped>\n",
       "    .dataframe tbody tr th:only-of-type {\n",
       "        vertical-align: middle;\n",
       "    }\n",
       "\n",
       "    .dataframe tbody tr th {\n",
       "        vertical-align: top;\n",
       "    }\n",
       "\n",
       "    .dataframe thead th {\n",
       "        text-align: right;\n",
       "    }\n",
       "</style>\n",
       "<table border=\"1\" class=\"dataframe\">\n",
       "  <thead>\n",
       "    <tr style=\"text-align: right;\">\n",
       "      <th></th>\n",
       "      <th>listing_id</th>\n",
       "      <th>available</th>\n",
       "      <th>price</th>\n",
       "      <th>price_f</th>\n",
       "      <th>year</th>\n",
       "      <th>month</th>\n",
       "      <th>day</th>\n",
       "    </tr>\n",
       "    <tr>\n",
       "      <th>date</th>\n",
       "      <th></th>\n",
       "      <th></th>\n",
       "      <th></th>\n",
       "      <th></th>\n",
       "      <th></th>\n",
       "      <th></th>\n",
       "      <th></th>\n",
       "    </tr>\n",
       "  </thead>\n",
       "  <tbody>\n",
       "    <tr>\n",
       "      <th>2016-05-25</th>\n",
       "      <td>3858725</td>\n",
       "      <td>t</td>\n",
       "      <td>$122.00</td>\n",
       "      <td>122.0</td>\n",
       "      <td>2016</td>\n",
       "      <td>5</td>\n",
       "      <td>25</td>\n",
       "    </tr>\n",
       "    <tr>\n",
       "      <th>2016-02-05</th>\n",
       "      <td>9460</td>\n",
       "      <td>t</td>\n",
       "      <td>$119.00</td>\n",
       "      <td>119.0</td>\n",
       "      <td>2016</td>\n",
       "      <td>2</td>\n",
       "      <td>5</td>\n",
       "    </tr>\n",
       "    <tr>\n",
       "      <th>2016-12-10</th>\n",
       "      <td>3052151</td>\n",
       "      <td>t</td>\n",
       "      <td>$70.00</td>\n",
       "      <td>70.0</td>\n",
       "      <td>2016</td>\n",
       "      <td>12</td>\n",
       "      <td>10</td>\n",
       "    </tr>\n",
       "    <tr>\n",
       "      <th>2016-06-20</th>\n",
       "      <td>3123632</td>\n",
       "      <td>t</td>\n",
       "      <td>$200.00</td>\n",
       "      <td>200.0</td>\n",
       "      <td>2016</td>\n",
       "      <td>6</td>\n",
       "      <td>20</td>\n",
       "    </tr>\n",
       "    <tr>\n",
       "      <th>2016-06-06</th>\n",
       "      <td>6412566</td>\n",
       "      <td>t</td>\n",
       "      <td>$175.00</td>\n",
       "      <td>175.0</td>\n",
       "      <td>2016</td>\n",
       "      <td>6</td>\n",
       "      <td>6</td>\n",
       "    </tr>\n",
       "    <tr>\n",
       "      <th>2016-08-10</th>\n",
       "      <td>7329915</td>\n",
       "      <td>t</td>\n",
       "      <td>$126.00</td>\n",
       "      <td>126.0</td>\n",
       "      <td>2016</td>\n",
       "      <td>8</td>\n",
       "      <td>10</td>\n",
       "    </tr>\n",
       "    <tr>\n",
       "      <th>2016-11-25</th>\n",
       "      <td>4251426</td>\n",
       "      <td>t</td>\n",
       "      <td>$275.00</td>\n",
       "      <td>275.0</td>\n",
       "      <td>2016</td>\n",
       "      <td>11</td>\n",
       "      <td>25</td>\n",
       "    </tr>\n",
       "    <tr>\n",
       "      <th>2016-03-17</th>\n",
       "      <td>7971395</td>\n",
       "      <td>t</td>\n",
       "      <td>$103.00</td>\n",
       "      <td>103.0</td>\n",
       "      <td>2016</td>\n",
       "      <td>3</td>\n",
       "      <td>17</td>\n",
       "    </tr>\n",
       "    <tr>\n",
       "      <th>2016-04-25</th>\n",
       "      <td>4694479</td>\n",
       "      <td>t</td>\n",
       "      <td>$57.00</td>\n",
       "      <td>57.0</td>\n",
       "      <td>2016</td>\n",
       "      <td>4</td>\n",
       "      <td>25</td>\n",
       "    </tr>\n",
       "    <tr>\n",
       "      <th>2016-02-27</th>\n",
       "      <td>5289293</td>\n",
       "      <td>t</td>\n",
       "      <td>$115.00</td>\n",
       "      <td>115.0</td>\n",
       "      <td>2016</td>\n",
       "      <td>2</td>\n",
       "      <td>27</td>\n",
       "    </tr>\n",
       "  </tbody>\n",
       "</table>\n",
       "</div>"
      ],
      "text/plain": [
       "            listing_id available    price  price_f  year  month  day\n",
       "date                                                                \n",
       "2016-05-25     3858725         t  $122.00    122.0  2016      5   25\n",
       "2016-02-05        9460         t  $119.00    119.0  2016      2    5\n",
       "2016-12-10     3052151         t   $70.00     70.0  2016     12   10\n",
       "2016-06-20     3123632         t  $200.00    200.0  2016      6   20\n",
       "2016-06-06     6412566         t  $175.00    175.0  2016      6    6\n",
       "2016-08-10     7329915         t  $126.00    126.0  2016      8   10\n",
       "2016-11-25     4251426         t  $275.00    275.0  2016     11   25\n",
       "2016-03-17     7971395         t  $103.00    103.0  2016      3   17\n",
       "2016-04-25     4694479         t   $57.00     57.0  2016      4   25\n",
       "2016-02-27     5289293         t  $115.00    115.0  2016      2   27"
      ]
     },
     "execution_count": 16,
     "metadata": {},
     "output_type": "execute_result"
    }
   ],
   "source": [
    "# Add seperate columns for year, month, and day to cal_s_df_price_notna dataset and check df\n",
    "cal_s_df_price['year'] = cal_s_df_price.index.year\n",
    "cal_s_df_price['month'] = cal_s_df_price.index.month\n",
    "cal_s_df_price['day'] = cal_s_df_price.index.day\n",
    "\n",
    "# Display a random sampling of 10 rows\n",
    "print(cal_s_df_price.index.min(),'\\n',cal_s_df_price.index.max(),'\\n',cal_s_df_price.shape,'\\n')\n",
    "cal_s_df_price.sample(10, random_state=0)"
   ]
  },
  {
   "cell_type": "markdown",
   "metadata": {},
   "source": [
    "## A look at 'availability' per month in Seattle\n"
   ]
  },
  {
   "cell_type": "code",
   "execution_count": 32,
   "metadata": {
    "scrolled": true
   },
   "outputs": [
    {
     "name": "stdout",
     "output_type": "stream",
     "text": [
      "month\n",
      "1     64937\n",
      "2     73321\n",
      "3     83938\n",
      "4     76037\n",
      "5     79971\n",
      "6     77244\n",
      "7     74222\n",
      "8     76347\n",
      "9     77246\n",
      "10    82438\n",
      "11    81780\n",
      "12    87061\n",
      "Name: listing_id, dtype: int64\n"
     ]
    },
    {
     "data": {
      "image/png": "[encoded data removed]",
      "text/plain": [
       "<Figure size 432x288 with 1 Axes>"
      ]
     },
     "metadata": {
      "needs_background": "light"
     },
     "output_type": "display_data"
    }
   ],
   "source": [
    "# Absolute availability per month in Seattle\n",
    "print(cal_s_df_price.groupby('month').count()['listing_id'])\n",
    "\n",
    "cal_s_df_price.groupby('month').count()['listing_id'].plot(kind='bar')\n",
    "plt.title('Availabiltiy per month in Seattle')\n",
    "plt.xlabel('Month')\n",
    "plt.ylabel('Available days of listings per month');\n"
   ]
  },
  {
   "cell_type": "markdown",
   "metadata": {},
   "source": [
    "## A look at average prices per month in Seattle\n"
   ]
  },
  {
   "cell_type": "code",
   "execution_count": 31,
   "metadata": {
    "scrolled": true
   },
   "outputs": [
    {
     "name": "stdout",
     "output_type": "stream",
     "text": [
      "month\n",
      "1     122.912176\n",
      "2     124.293927\n",
      "3     128.644488\n",
      "4     135.097005\n",
      "5     139.538183\n",
      "6     147.473137\n",
      "7     152.094150\n",
      "8     150.656594\n",
      "9     143.255949\n",
      "10    137.031939\n",
      "11    135.688738\n",
      "12    137.251835\n",
      "Name: price_f, dtype: float64\n"
     ]
    },
    {
     "data": {
      "image/png": "[encoded data removed]",
      "text/plain": [
       "<Figure size 432x288 with 1 Axes>"
      ]
     },
     "metadata": {
      "needs_background": "light"
     },
     "output_type": "display_data"
    }
   ],
   "source": [
    "# Average prices per month in Seattle\n",
    "print(cal_s_df_price.groupby('month').mean()['price_f'])\n",
    "\n",
    "cal_s_df_price.groupby('month').mean()['price_f'].plot(kind='bar')\n",
    "plt.title('Average prices per month of listings in Seattle')\n",
    "plt.xlabel('Month')\n",
    "plt.ylabel('Average Price');\n"
   ]
  },
  {
   "cell_type": "code",
   "execution_count": 30,
   "metadata": {},
   "outputs": [
    {
     "data": {
      "image/png": "[encoded data removed]",
      "text/plain": [
       "<Figure size 1008x504 with 1 Axes>"
      ]
     },
     "metadata": {
      "needs_background": "light"
     },
     "output_type": "display_data"
    }
   ],
   "source": [
    "#Boxplot of monthly price \n",
    "base_color=sb.color_palette()[0]\n",
    "\n",
    "plt.figure(figsize=(14,7))\n",
    "sb.boxplot(data=cal_s_df_price, x='month', y=\"price_f\", color=base_color)\n",
    "plt.ylim(0,400)\n",
    "plt.title('Distribution of prices per month of listings in Seattle')\n",
    "plt.xlabel('Month')\n",
    "plt.ylabel('Price Distribution Statistics');"
   ]
  },
  {
   "cell_type": "markdown",
   "metadata": {},
   "source": [
    "## Relation between 'Availability' and 'Price' in Seattle\n"
   ]
  },
  {
   "cell_type": "code",
   "execution_count": 24,
   "metadata": {
    "scrolled": true
   },
   "outputs": [
    {
     "data": {
      "text/html": [
       "<div>\n",
       "<style scoped>\n",
       "    .dataframe tbody tr th:only-of-type {\n",
       "        vertical-align: middle;\n",
       "    }\n",
       "\n",
       "    .dataframe tbody tr th {\n",
       "        vertical-align: top;\n",
       "    }\n",
       "\n",
       "    .dataframe thead th {\n",
       "        text-align: right;\n",
       "    }\n",
       "</style>\n",
       "<table border=\"1\" class=\"dataframe\">\n",
       "  <thead>\n",
       "    <tr style=\"text-align: right;\">\n",
       "      <th></th>\n",
       "      <th>month</th>\n",
       "      <th>listing_id</th>\n",
       "      <th>price_f</th>\n",
       "    </tr>\n",
       "  </thead>\n",
       "  <tbody>\n",
       "    <tr>\n",
       "      <th>0</th>\n",
       "      <td>1</td>\n",
       "      <td>64937</td>\n",
       "      <td>122.912176</td>\n",
       "    </tr>\n",
       "    <tr>\n",
       "      <th>1</th>\n",
       "      <td>2</td>\n",
       "      <td>73321</td>\n",
       "      <td>124.293927</td>\n",
       "    </tr>\n",
       "    <tr>\n",
       "      <th>2</th>\n",
       "      <td>3</td>\n",
       "      <td>83938</td>\n",
       "      <td>128.644488</td>\n",
       "    </tr>\n",
       "    <tr>\n",
       "      <th>3</th>\n",
       "      <td>4</td>\n",
       "      <td>76037</td>\n",
       "      <td>135.097005</td>\n",
       "    </tr>\n",
       "    <tr>\n",
       "      <th>4</th>\n",
       "      <td>5</td>\n",
       "      <td>79971</td>\n",
       "      <td>139.538183</td>\n",
       "    </tr>\n",
       "    <tr>\n",
       "      <th>5</th>\n",
       "      <td>6</td>\n",
       "      <td>77244</td>\n",
       "      <td>147.473137</td>\n",
       "    </tr>\n",
       "    <tr>\n",
       "      <th>6</th>\n",
       "      <td>7</td>\n",
       "      <td>74222</td>\n",
       "      <td>152.094150</td>\n",
       "    </tr>\n",
       "    <tr>\n",
       "      <th>7</th>\n",
       "      <td>8</td>\n",
       "      <td>76347</td>\n",
       "      <td>150.656594</td>\n",
       "    </tr>\n",
       "    <tr>\n",
       "      <th>8</th>\n",
       "      <td>9</td>\n",
       "      <td>77246</td>\n",
       "      <td>143.255949</td>\n",
       "    </tr>\n",
       "    <tr>\n",
       "      <th>9</th>\n",
       "      <td>10</td>\n",
       "      <td>82438</td>\n",
       "      <td>137.031939</td>\n",
       "    </tr>\n",
       "    <tr>\n",
       "      <th>10</th>\n",
       "      <td>11</td>\n",
       "      <td>81780</td>\n",
       "      <td>135.688738</td>\n",
       "    </tr>\n",
       "    <tr>\n",
       "      <th>11</th>\n",
       "      <td>12</td>\n",
       "      <td>87061</td>\n",
       "      <td>137.251835</td>\n",
       "    </tr>\n",
       "  </tbody>\n",
       "</table>\n",
       "</div>"
      ],
      "text/plain": [
       "    month  listing_id     price_f\n",
       "0       1       64937  122.912176\n",
       "1       2       73321  124.293927\n",
       "2       3       83938  128.644488\n",
       "3       4       76037  135.097005\n",
       "4       5       79971  139.538183\n",
       "5       6       77244  147.473137\n",
       "6       7       74222  152.094150\n",
       "7       8       76347  150.656594\n",
       "8       9       77246  143.255949\n",
       "9      10       82438  137.031939\n",
       "10     11       81780  135.688738\n",
       "11     12       87061  137.251835"
      ]
     },
     "execution_count": 24,
     "metadata": {},
     "output_type": "execute_result"
    }
   ],
   "source": [
    "avai_price_s_df = cal_s_df_price.groupby('month').agg({'listing_id':'count','price_f':'mean'}).reset_index()\n",
    "avai_price_s_df\n"
   ]
  },
  {
   "cell_type": "markdown",
   "metadata": {},
   "source": [
    "## Analysis: impact of different features of listings on price\n",
    "1. deeper look at listings_s_df\n",
    "2. examining the different location and feature variables of a listing\n",
    "3. analyse impact of location and features of a listing on price"
   ]
  },
  {
   "cell_type": "markdown",
   "metadata": {},
   "source": [
    "### 1. deeper look at listings_s_df"
   ]
  },
  {
   "cell_type": "code",
   "execution_count": 25,
   "metadata": {
    "scrolled": false
   },
   "outputs": [
    {
     "name": "stdout",
     "output_type": "stream",
     "text": [
      "<class 'pandas.core.frame.DataFrame'>\n",
      "RangeIndex: 3818 entries, 0 to 3817\n",
      "Data columns (total 92 columns):\n",
      " #   Column                            Non-Null Count  Dtype  \n",
      "---  ------                            --------------  -----  \n",
      " 0   id                                3818 non-null   int64  \n",
      " 1   listing_url                       3818 non-null   object \n",
      " 2   scrape_id                         3818 non-null   int64  \n",
      " 3   last_scraped                      3818 non-null   object \n",
      " 4   name                              3818 non-null   object \n",
      " 5   summary                           3641 non-null   object \n",
      " 6   space                             3249 non-null   object \n",
      " 7   description                       3818 non-null   object \n",
      " 8   experiences_offered               3818 non-null   object \n",
      " 9   neighborhood_overview             2786 non-null   object \n",
      " 10  notes                             2212 non-null   object \n",
      " 11  transit                           2884 non-null   object \n",
      " 12  thumbnail_url                     3498 non-null   object \n",
      " 13  medium_url                        3498 non-null   object \n",
      " 14  picture_url                       3818 non-null   object \n",
      " 15  xl_picture_url                    3498 non-null   object \n",
      " 16  host_id                           3818 non-null   int64  \n",
      " 17  host_url                          3818 non-null   object \n",
      " 18  host_name                         3816 non-null   object \n",
      " 19  host_since                        3816 non-null   object \n",
      " 20  host_location                     3810 non-null   object \n",
      " 21  host_about                        2959 non-null   object \n",
      " 22  host_response_time                3295 non-null   object \n",
      " 23  host_response_rate                3295 non-null   object \n",
      " 24  host_acceptance_rate              3045 non-null   object \n",
      " 25  host_is_superhost                 3816 non-null   object \n",
      " 26  host_thumbnail_url                3816 non-null   object \n",
      " 27  host_picture_url                  3816 non-null   object \n",
      " 28  host_neighbourhood                3518 non-null   object \n",
      " 29  host_listings_count               3816 non-null   float64\n",
      " 30  host_total_listings_count         3816 non-null   float64\n",
      " 31  host_verifications                3818 non-null   object \n",
      " 32  host_has_profile_pic              3816 non-null   object \n",
      " 33  host_identity_verified            3816 non-null   object \n",
      " 34  street                            3818 non-null   object \n",
      " 35  neighbourhood                     3402 non-null   object \n",
      " 36  neighbourhood_cleansed            3818 non-null   object \n",
      " 37  neighbourhood_group_cleansed      3818 non-null   object \n",
      " 38  city                              3818 non-null   object \n",
      " 39  state                             3818 non-null   object \n",
      " 40  zipcode                           3811 non-null   object \n",
      " 41  market                            3818 non-null   object \n",
      " 42  smart_location                    3818 non-null   object \n",
      " 43  country_code                      3818 non-null   object \n",
      " 44  country                           3818 non-null   object \n",
      " 45  latitude                          3818 non-null   float64\n",
      " 46  longitude                         3818 non-null   float64\n",
      " 47  is_location_exact                 3818 non-null   object \n",
      " 48  property_type                     3817 non-null   object \n",
      " 49  room_type                         3818 non-null   object \n",
      " 50  accommodates                      3818 non-null   int64  \n",
      " 51  bathrooms                         3802 non-null   float64\n",
      " 52  bedrooms                          3812 non-null   float64\n",
      " 53  beds                              3817 non-null   float64\n",
      " 54  bed_type                          3818 non-null   object \n",
      " 55  amenities                         3818 non-null   object \n",
      " 56  square_feet                       97 non-null     float64\n",
      " 57  price                             3818 non-null   object \n",
      " 58  weekly_price                      2009 non-null   object \n",
      " 59  monthly_price                     1517 non-null   object \n",
      " 60  security_deposit                  1866 non-null   object \n",
      " 61  cleaning_fee                      2788 non-null   object \n",
      " 62  guests_included                   3818 non-null   int64  \n",
      " 63  extra_people                      3818 non-null   object \n",
      " 64  minimum_nights                    3818 non-null   int64  \n",
      " 65  maximum_nights                    3818 non-null   int64  \n",
      " 66  calendar_updated                  3818 non-null   object \n",
      " 67  has_availability                  3818 non-null   object \n",
      " 68  availability_30                   3818 non-null   int64  \n",
      " 69  availability_60                   3818 non-null   int64  \n",
      " 70  availability_90                   3818 non-null   int64  \n",
      " 71  availability_365                  3818 non-null   int64  \n",
      " 72  calendar_last_scraped             3818 non-null   object \n",
      " 73  number_of_reviews                 3818 non-null   int64  \n",
      " 74  first_review                      3191 non-null   object \n",
      " 75  last_review                       3191 non-null   object \n",
      " 76  review_scores_rating              3171 non-null   float64\n",
      " 77  review_scores_accuracy            3160 non-null   float64\n",
      " 78  review_scores_cleanliness         3165 non-null   float64\n",
      " 79  review_scores_checkin             3160 non-null   float64\n",
      " 80  review_scores_communication       3167 non-null   float64\n",
      " 81  review_scores_location            3163 non-null   float64\n",
      " 82  review_scores_value               3162 non-null   float64\n",
      " 83  requires_license                  3818 non-null   object \n",
      " 84  license                           0 non-null      float64\n",
      " 85  jurisdiction_names                3818 non-null   object \n",
      " 86  instant_bookable                  3818 non-null   object \n",
      " 87  cancellation_policy               3818 non-null   object \n",
      " 88  require_guest_profile_picture     3818 non-null   object \n",
      " 89  require_guest_phone_verification  3818 non-null   object \n",
      " 90  calculated_host_listings_count    3818 non-null   int64  \n",
      " 91  reviews_per_month                 3191 non-null   float64\n",
      "dtypes: float64(17), int64(13), object(62)\n",
      "memory usage: 1.8+ MB\n"
     ]
    }
   ],
   "source": [
    "listings_s_df.info()"
   ]
  },
  {
   "cell_type": "code",
   "execution_count": 26,
   "metadata": {
    "scrolled": false
   },
   "outputs": [
    {
     "data": {
      "text/html": [
       "<div>\n",
       "<style scoped>\n",
       "    .dataframe tbody tr th:only-of-type {\n",
       "        vertical-align: middle;\n",
       "    }\n",
       "\n",
       "    .dataframe tbody tr th {\n",
       "        vertical-align: top;\n",
       "    }\n",
       "\n",
       "    .dataframe thead th {\n",
       "        text-align: right;\n",
       "    }\n",
       "</style>\n",
       "<table border=\"1\" class=\"dataframe\">\n",
       "  <thead>\n",
       "    <tr style=\"text-align: right;\">\n",
       "      <th></th>\n",
       "      <th>listing_id</th>\n",
       "      <th>property_type</th>\n",
       "      <th>room_type</th>\n",
       "      <th>bathrooms</th>\n",
       "      <th>bedrooms</th>\n",
       "      <th>beds</th>\n",
       "      <th>bed_type</th>\n",
       "      <th>neighbourhood</th>\n",
       "      <th>neighbourhood_cleansed</th>\n",
       "      <th>neighbourhood_group_cleansed</th>\n",
       "      <th>city</th>\n",
       "      <th>price</th>\n",
       "    </tr>\n",
       "  </thead>\n",
       "  <tbody>\n",
       "    <tr>\n",
       "      <th>0</th>\n",
       "      <td>241032</td>\n",
       "      <td>Apartment</td>\n",
       "      <td>Entire home/apt</td>\n",
       "      <td>1.0</td>\n",
       "      <td>1.0</td>\n",
       "      <td>1.0</td>\n",
       "      <td>Real Bed</td>\n",
       "      <td>Queen Anne</td>\n",
       "      <td>West Queen Anne</td>\n",
       "      <td>Queen Anne</td>\n",
       "      <td>Seattle</td>\n",
       "      <td>$85.00</td>\n",
       "    </tr>\n",
       "    <tr>\n",
       "      <th>1</th>\n",
       "      <td>953595</td>\n",
       "      <td>Apartment</td>\n",
       "      <td>Entire home/apt</td>\n",
       "      <td>1.0</td>\n",
       "      <td>1.0</td>\n",
       "      <td>1.0</td>\n",
       "      <td>Real Bed</td>\n",
       "      <td>Queen Anne</td>\n",
       "      <td>West Queen Anne</td>\n",
       "      <td>Queen Anne</td>\n",
       "      <td>Seattle</td>\n",
       "      <td>$150.00</td>\n",
       "    </tr>\n",
       "    <tr>\n",
       "      <th>2</th>\n",
       "      <td>3308979</td>\n",
       "      <td>House</td>\n",
       "      <td>Entire home/apt</td>\n",
       "      <td>4.5</td>\n",
       "      <td>5.0</td>\n",
       "      <td>7.0</td>\n",
       "      <td>Real Bed</td>\n",
       "      <td>Queen Anne</td>\n",
       "      <td>West Queen Anne</td>\n",
       "      <td>Queen Anne</td>\n",
       "      <td>Seattle</td>\n",
       "      <td>$975.00</td>\n",
       "    </tr>\n",
       "    <tr>\n",
       "      <th>3</th>\n",
       "      <td>7421966</td>\n",
       "      <td>Apartment</td>\n",
       "      <td>Entire home/apt</td>\n",
       "      <td>1.0</td>\n",
       "      <td>0.0</td>\n",
       "      <td>2.0</td>\n",
       "      <td>Real Bed</td>\n",
       "      <td>Queen Anne</td>\n",
       "      <td>West Queen Anne</td>\n",
       "      <td>Queen Anne</td>\n",
       "      <td>Seattle</td>\n",
       "      <td>$100.00</td>\n",
       "    </tr>\n",
       "    <tr>\n",
       "      <th>4</th>\n",
       "      <td>278830</td>\n",
       "      <td>House</td>\n",
       "      <td>Entire home/apt</td>\n",
       "      <td>2.0</td>\n",
       "      <td>3.0</td>\n",
       "      <td>3.0</td>\n",
       "      <td>Real Bed</td>\n",
       "      <td>Queen Anne</td>\n",
       "      <td>West Queen Anne</td>\n",
       "      <td>Queen Anne</td>\n",
       "      <td>Seattle</td>\n",
       "      <td>$450.00</td>\n",
       "    </tr>\n",
       "    <tr>\n",
       "      <th>...</th>\n",
       "      <td>...</td>\n",
       "      <td>...</td>\n",
       "      <td>...</td>\n",
       "      <td>...</td>\n",
       "      <td>...</td>\n",
       "      <td>...</td>\n",
       "      <td>...</td>\n",
       "      <td>...</td>\n",
       "      <td>...</td>\n",
       "      <td>...</td>\n",
       "      <td>...</td>\n",
       "      <td>...</td>\n",
       "    </tr>\n",
       "    <tr>\n",
       "      <th>3813</th>\n",
       "      <td>8101950</td>\n",
       "      <td>House</td>\n",
       "      <td>Entire home/apt</td>\n",
       "      <td>2.0</td>\n",
       "      <td>3.0</td>\n",
       "      <td>3.0</td>\n",
       "      <td>Real Bed</td>\n",
       "      <td>Fremont</td>\n",
       "      <td>Fremont</td>\n",
       "      <td>Other neighborhoods</td>\n",
       "      <td>Seattle</td>\n",
       "      <td>$359.00</td>\n",
       "    </tr>\n",
       "    <tr>\n",
       "      <th>3814</th>\n",
       "      <td>8902327</td>\n",
       "      <td>Apartment</td>\n",
       "      <td>Entire home/apt</td>\n",
       "      <td>1.0</td>\n",
       "      <td>1.0</td>\n",
       "      <td>2.0</td>\n",
       "      <td>Real Bed</td>\n",
       "      <td>Portage Bay</td>\n",
       "      <td>Portage Bay</td>\n",
       "      <td>Capitol Hill</td>\n",
       "      <td>Seattle</td>\n",
       "      <td>$79.00</td>\n",
       "    </tr>\n",
       "    <tr>\n",
       "      <th>3815</th>\n",
       "      <td>10267360</td>\n",
       "      <td>House</td>\n",
       "      <td>Entire home/apt</td>\n",
       "      <td>1.0</td>\n",
       "      <td>1.0</td>\n",
       "      <td>1.0</td>\n",
       "      <td>Real Bed</td>\n",
       "      <td>NaN</td>\n",
       "      <td>Rainier Beach</td>\n",
       "      <td>Rainier Valley</td>\n",
       "      <td>Seattle</td>\n",
       "      <td>$93.00</td>\n",
       "    </tr>\n",
       "    <tr>\n",
       "      <th>3816</th>\n",
       "      <td>9604740</td>\n",
       "      <td>Condominium</td>\n",
       "      <td>Entire home/apt</td>\n",
       "      <td>1.0</td>\n",
       "      <td>0.0</td>\n",
       "      <td>1.0</td>\n",
       "      <td>Real Bed</td>\n",
       "      <td>NaN</td>\n",
       "      <td>Madison Park</td>\n",
       "      <td>Capitol Hill</td>\n",
       "      <td>Seattle</td>\n",
       "      <td>$99.00</td>\n",
       "    </tr>\n",
       "    <tr>\n",
       "      <th>3817</th>\n",
       "      <td>10208623</td>\n",
       "      <td>Apartment</td>\n",
       "      <td>Entire home/apt</td>\n",
       "      <td>1.5</td>\n",
       "      <td>2.0</td>\n",
       "      <td>1.0</td>\n",
       "      <td>Real Bed</td>\n",
       "      <td>Queen Anne</td>\n",
       "      <td>East Queen Anne</td>\n",
       "      <td>Queen Anne</td>\n",
       "      <td>Seattle</td>\n",
       "      <td>$87.00</td>\n",
       "    </tr>\n",
       "  </tbody>\n",
       "</table>\n",
       "<p>3818 rows × 12 columns</p>\n",
       "</div>"
      ],
      "text/plain": [
       "      listing_id property_type        room_type  bathrooms  bedrooms  beds  \\\n",
       "0         241032     Apartment  Entire home/apt        1.0       1.0   1.0   \n",
       "1         953595     Apartment  Entire home/apt        1.0       1.0   1.0   \n",
       "2        3308979         House  Entire home/apt        4.5       5.0   7.0   \n",
       "3        7421966     Apartment  Entire home/apt        1.0       0.0   2.0   \n",
       "4         278830         House  Entire home/apt        2.0       3.0   3.0   \n",
       "...          ...           ...              ...        ...       ...   ...   \n",
       "3813     8101950         House  Entire home/apt        2.0       3.0   3.0   \n",
       "3814     8902327     Apartment  Entire home/apt        1.0       1.0   2.0   \n",
       "3815    10267360         House  Entire home/apt        1.0       1.0   1.0   \n",
       "3816     9604740   Condominium  Entire home/apt        1.0       0.0   1.0   \n",
       "3817    10208623     Apartment  Entire home/apt        1.5       2.0   1.0   \n",
       "\n",
       "      bed_type neighbourhood neighbourhood_cleansed  \\\n",
       "0     Real Bed    Queen Anne        West Queen Anne   \n",
       "1     Real Bed    Queen Anne        West Queen Anne   \n",
       "2     Real Bed    Queen Anne        West Queen Anne   \n",
       "3     Real Bed    Queen Anne        West Queen Anne   \n",
       "4     Real Bed    Queen Anne        West Queen Anne   \n",
       "...        ...           ...                    ...   \n",
       "3813  Real Bed       Fremont                Fremont   \n",
       "3814  Real Bed   Portage Bay            Portage Bay   \n",
       "3815  Real Bed           NaN          Rainier Beach   \n",
       "3816  Real Bed           NaN           Madison Park   \n",
       "3817  Real Bed    Queen Anne        East Queen Anne   \n",
       "\n",
       "     neighbourhood_group_cleansed     city    price  \n",
       "0                      Queen Anne  Seattle   $85.00  \n",
       "1                      Queen Anne  Seattle  $150.00  \n",
       "2                      Queen Anne  Seattle  $975.00  \n",
       "3                      Queen Anne  Seattle  $100.00  \n",
       "4                      Queen Anne  Seattle  $450.00  \n",
       "...                           ...      ...      ...  \n",
       "3813          Other neighborhoods  Seattle  $359.00  \n",
       "3814                 Capitol Hill  Seattle   $79.00  \n",
       "3815               Rainier Valley  Seattle   $93.00  \n",
       "3816                 Capitol Hill  Seattle   $99.00  \n",
       "3817                   Queen Anne  Seattle   $87.00  \n",
       "\n",
       "[3818 rows x 12 columns]"
      ]
     },
     "execution_count": 26,
     "metadata": {},
     "output_type": "execute_result"
    }
   ],
   "source": [
    "# Create subset of the listings_s_df containing all of the location properties and the features of a listing to be analysed\n",
    "listings_s_feat_df=listings_s_df[['id','property_type','room_type','bathrooms','bedrooms','beds','bed_type','neighbourhood','neighbourhood_cleansed','neighbourhood_group_cleansed','city','price']].rename(columns={'id':'listing_id'})\n",
    "listings_s_feat_df"
   ]
  },
  {
   "cell_type": "markdown",
   "metadata": {},
   "source": [
    "### 2. examining the different location and feature variables of a listing"
   ]
  },
  {
   "cell_type": "code",
   "execution_count": 27,
   "metadata": {},
   "outputs": [
    {
     "data": {
      "text/plain": [
       "House              0.454021\n",
       "Apartment          0.447472\n",
       "Townhouse          0.030914\n",
       "Condominium        0.023841\n",
       "Loft               0.010479\n",
       "Bed & Breakfast    0.009693\n",
       "Other              0.005764\n",
       "Cabin              0.005502\n",
       "Bungalow           0.003406\n",
       "Camper/RV          0.003406\n",
       "Boat               0.002096\n",
       "Tent               0.001310\n",
       "Treehouse          0.000786\n",
       "Chalet             0.000524\n",
       "Dorm               0.000524\n",
       "Yurt               0.000262\n",
       "Name: property_type, dtype: float64"
      ]
     },
     "execution_count": 27,
     "metadata": {},
     "output_type": "execute_result"
    }
   ],
   "source": [
    "#examining distribution of property_type\n",
    "prop_type_s_c= listings_s_feat_df['property_type'].value_counts()\n",
    "prop_type_s_perc = prop_type_s_c/prop_type_s_c.sum()\n",
    "prop_type_s_perc"
   ]
  },
  {
   "cell_type": "code",
   "execution_count": 34,
   "metadata": {},
   "outputs": [
    {
     "name": "stderr",
     "output_type": "stream",
     "text": [
      "c:\\users\\user\\appdata\\local\\programs\\python\\python38-32\\lib\\site-packages\\seaborn\\_decorators.py:36: FutureWarning: Pass the following variable as a keyword arg: x. From version 0.12, the only valid positional argument will be `data`, and passing other arguments without an explicit keyword will result in an error or misinterpretation.\n",
      "  warnings.warn(\n"
     ]
    },
    {
     "data": {
      "image/png": "[encoded data removed]",
      "text/plain": [
       "<Figure size 432x288 with 1 Axes>"
      ]
     },
     "metadata": {
      "needs_background": "light"
     },
     "output_type": "display_data"
    }
   ],
   "source": [
    "base_color=sb.color_palette()[1]\n",
    "sb.countplot(listings_s_feat_df['property_type'], color=base_color)\n",
    "plt.xticks(rotation=90)\n",
    "\n",
    "plt.title('Distribution of property types in Seattle')\n",
    "plt.xlabel('Property type')\n",
    "plt.ylabel('Count');"
   ]
  },
  {
   "cell_type": "code",
   "execution_count": 25,
   "metadata": {},
   "outputs": [
    {
     "data": {
      "text/plain": [
       "Entire home/apt    0.665532\n",
       "Private room       0.303824\n",
       "Shared room        0.030644\n",
       "Name: room_type, dtype: float64"
      ]
     },
     "execution_count": 25,
     "metadata": {},
     "output_type": "execute_result"
    }
   ],
   "source": [
    "#examining distribution of room_type\n",
    "room_type_s_c=listings_s_feat_df['room_type'].value_counts()\n",
    "room_type_s_perc=room_type_s_c/room_type_s_c.sum() \n",
    "room_type_s_perc"
   ]
  },
  {
   "cell_type": "code",
   "execution_count": 35,
   "metadata": {
    "scrolled": true
   },
   "outputs": [
    {
     "name": "stderr",
     "output_type": "stream",
     "text": [
      "c:\\users\\user\\appdata\\local\\programs\\python\\python38-32\\lib\\site-packages\\seaborn\\_decorators.py:36: FutureWarning: Pass the following variable as a keyword arg: x. From version 0.12, the only valid positional argument will be `data`, and passing other arguments without an explicit keyword will result in an error or misinterpretation.\n",
      "  warnings.warn(\n"
     ]
    },
    {
     "data": {
      "image/png": "[encoded data removed]",
      "text/plain": [
       "<Figure size 432x288 with 1 Axes>"
      ]
     },
     "metadata": {
      "needs_background": "light"
     },
     "output_type": "display_data"
    }
   ],
   "source": [
    "sb.countplot(listings_s_feat_df['room_type'], color=base_color)\n",
    "plt.xticks(rotation=90)\n",
    "\n",
    "plt.title('Distribution of room types in Seattle')\n",
    "plt.xlabel('Room type')\n",
    "plt.ylabel('Count');"
   ]
  },
  {
   "cell_type": "code",
   "execution_count": 37,
   "metadata": {},
   "outputs": [
    {
     "data": {
      "text/plain": [
       "1.0    0.758022\n",
       "2.0    0.098106\n",
       "1.5    0.065229\n",
       "2.5    0.032614\n",
       "3.0    0.016833\n",
       "3.5    0.014992\n",
       "0.5    0.008154\n",
       "0.0    0.002104\n",
       "4.0    0.002104\n",
       "4.5    0.000789\n",
       "5.0    0.000526\n",
       "8.0    0.000526\n",
       "Name: bathrooms, dtype: float64"
      ]
     },
     "execution_count": 37,
     "metadata": {},
     "output_type": "execute_result"
    }
   ],
   "source": [
    "#examining distribution of bathrooms\n",
    "bathrooms_s_c=listings_s_feat_df['bathrooms'].value_counts()\n",
    "bathroom_s_perc=bathrooms_s_c/bathrooms_s_c.sum() \n",
    "bathroom_s_perc"
   ]
  },
  {
   "cell_type": "code",
   "execution_count": 40,
   "metadata": {
    "scrolled": false
   },
   "outputs": [
    {
     "data": {
      "image/png": "[encoded data removed]",
      "text/plain": [
       "<Figure size 432x288 with 1 Axes>"
      ]
     },
     "metadata": {
      "needs_background": "light"
     },
     "output_type": "display_data"
    }
   ],
   "source": [
    "bathrooms_s_c.sort_index().plot(kind='bar')\n",
    "plt.title('Distribution of number of bathrooms in listings in Seattle')\n",
    "plt.xlabel('Number of bathrooms')\n",
    "plt.ylabel('Listings count');"
   ]
  },
  {
   "cell_type": "code",
   "execution_count": 41,
   "metadata": {},
   "outputs": [
    {
     "data": {
      "text/plain": [
       "1.0    0.634050\n",
       "2.0    0.167891\n",
       "0.0    0.097587\n",
       "3.0    0.074239\n",
       "4.0    0.018101\n",
       "5.0    0.006296\n",
       "6.0    0.001574\n",
       "7.0    0.000262\n",
       "Name: bedrooms, dtype: float64"
      ]
     },
     "execution_count": 41,
     "metadata": {},
     "output_type": "execute_result"
    }
   ],
   "source": [
    "#examining distribution of bedrooms\n",
    "bedrooms_s_c=listings_s_feat_df['bedrooms'].value_counts()\n",
    "bedrooms_s_perc=bedrooms_s_c/bedrooms_s_c.sum() \n",
    "bedrooms_s_perc"
   ]
  },
  {
   "cell_type": "code",
   "execution_count": 42,
   "metadata": {},
   "outputs": [
    {
     "data": {
      "image/png": "[encoded data removed]",
      "text/plain": [
       "<Figure size 432x288 with 1 Axes>"
      ]
     },
     "metadata": {
      "needs_background": "light"
     },
     "output_type": "display_data"
    }
   ],
   "source": [
    "bedrooms_s_c.sort_index().plot(kind='bar')\n",
    "plt.title('Distribution of number of bedrooms in listings in Seattle')\n",
    "plt.xlabel('Number of bedrooms')\n",
    "plt.ylabel('Listings count');"
   ]
  },
  {
   "cell_type": "code",
   "execution_count": 43,
   "metadata": {
    "scrolled": false
   },
   "outputs": [
    {
     "data": {
      "text/plain": [
       "1.0     0.576631\n",
       "2.0     0.238931\n",
       "3.0     0.113440\n",
       "4.0     0.039822\n",
       "5.0     0.019125\n",
       "6.0     0.005502\n",
       "7.0     0.003668\n",
       "8.0     0.001048\n",
       "9.0     0.001048\n",
       "10.0    0.000524\n",
       "15.0    0.000262\n",
       "Name: beds, dtype: float64"
      ]
     },
     "execution_count": 43,
     "metadata": {},
     "output_type": "execute_result"
    }
   ],
   "source": [
    "#examining distribution of beds\n",
    "beds_s_c=listings_s_feat_df['beds'].value_counts()\n",
    "beds_s_perc=beds_s_c/beds_s_c.sum() \n",
    "beds_s_perc"
   ]
  },
  {
   "cell_type": "code",
   "execution_count": 44,
   "metadata": {},
   "outputs": [
    {
     "data": {
      "image/png": "[encoded data removed]",
      "text/plain": [
       "<Figure size 432x288 with 1 Axes>"
      ]
     },
     "metadata": {
      "needs_background": "light"
     },
     "output_type": "display_data"
    }
   ],
   "source": [
    "beds_s_c.sort_index().plot(kind='bar')\n",
    "plt.title('Distribution of number of beds in listings in Seattle')\n",
    "plt.xlabel('Number of beds')\n",
    "plt.ylabel('Listings count');"
   ]
  },
  {
   "cell_type": "code",
   "execution_count": 45,
   "metadata": {},
   "outputs": [
    {
     "data": {
      "text/plain": [
       "Real Bed         0.957831\n",
       "Futon            0.019382\n",
       "Pull-out Sofa    0.012310\n",
       "Airbed           0.007072\n",
       "Couch            0.003405\n",
       "Name: bed_type, dtype: float64"
      ]
     },
     "execution_count": 45,
     "metadata": {},
     "output_type": "execute_result"
    }
   ],
   "source": [
    "#examining distribution of bed_type\n",
    "bed_type_s_c=listings_s_feat_df['bed_type'].value_counts()\n",
    "bed_type_s_perc=bed_type_s_c/bed_type_s_c.sum() \n",
    "bed_type_s_perc"
   ]
  },
  {
   "cell_type": "code",
   "execution_count": 46,
   "metadata": {},
   "outputs": [
    {
     "data": {
      "image/png": "[encoded data removed]",
      "text/plain": [
       "<Figure size 432x288 with 1 Axes>"
      ]
     },
     "metadata": {
      "needs_background": "light"
     },
     "output_type": "display_data"
    }
   ],
   "source": [
    "bed_type_s_c.sort_index().plot(kind='bar')\n",
    "plt.title('Distribution of bed types in listings in Seattle')\n",
    "plt.xlabel('Bed types')\n",
    "plt.ylabel('Listings count');"
   ]
  },
  {
   "cell_type": "code",
   "execution_count": 47,
   "metadata": {},
   "outputs": [
    {
     "data": {
      "text/plain": [
       "Capitol Hill           351\n",
       "Ballard                213\n",
       "Belltown               204\n",
       "Minor                  192\n",
       "Queen Anne             187\n",
       "Fremont                148\n",
       "Wallingford            143\n",
       "University District    107\n",
       "First Hill             105\n",
       "Stevens                 98\n",
       "Name: neighbourhood, dtype: int64"
      ]
     },
     "execution_count": 47,
     "metadata": {},
     "output_type": "execute_result"
    }
   ],
   "source": [
    "#examining location variables  - top 10 neighbourhoods\n",
    "neighbourhood_s_c=listings_s_feat_df['neighbourhood'].value_counts()[:10]\n",
    "neighbourhood_s_c"
   ]
  },
  {
   "cell_type": "code",
   "execution_count": 48,
   "metadata": {},
   "outputs": [
    {
     "data": {
      "text/plain": [
       "Broadway                     397\n",
       "Belltown                     234\n",
       "Wallingford                  167\n",
       "Fremont                      158\n",
       "Minor                        135\n",
       "University District          122\n",
       "Stevens                      119\n",
       "First Hill                   108\n",
       "Central Business District    103\n",
       "Lower Queen Anne              94\n",
       "Name: neighbourhood_cleansed, dtype: int64"
      ]
     },
     "execution_count": 48,
     "metadata": {},
     "output_type": "execute_result"
    }
   ],
   "source": [
    "neighbourhood_cleansed_s_c=listings_s_feat_df['neighbourhood_cleansed'].value_counts()[:10]\n",
    "neighbourhood_cleansed_s_c"
   ]
  },
  {
   "cell_type": "code",
   "execution_count": 49,
   "metadata": {},
   "outputs": [
    {
     "data": {
      "text/plain": [
       "Other neighborhoods    794\n",
       "Capitol Hill           567\n",
       "Downtown               530\n",
       "Central Area           369\n",
       "Queen Anne             295\n",
       "Ballard                230\n",
       "West Seattle           203\n",
       "Rainier Valley         159\n",
       "University District    122\n",
       "Beacon Hill            118\n",
       "Name: neighbourhood_group_cleansed, dtype: int64"
      ]
     },
     "execution_count": 49,
     "metadata": {},
     "output_type": "execute_result"
    }
   ],
   "source": [
    "neighbourhood_group_cleansed_s_c=listings_s_feat_df['neighbourhood_group_cleansed'].value_counts()[:10]\n",
    "neighbourhood_group_cleansed_s_c"
   ]
  },
  {
   "cell_type": "code",
   "execution_count": 50,
   "metadata": {
    "scrolled": true
   },
   "outputs": [
    {
     "data": {
      "text/plain": [
       "Seattle                  3810\n",
       "West Seattle                2\n",
       "Seattle                     2\n",
       "西雅图                         1\n",
       "seattle                     1\n",
       "Ballard, Seattle            1\n",
       "Phinney Ridge Seattle       1\n",
       "Name: city, dtype: int64"
      ]
     },
     "execution_count": 50,
     "metadata": {},
     "output_type": "execute_result"
    }
   ],
   "source": [
    "city_s_c=listings_s_feat_df['city'].value_counts()\n",
    "city_s_c"
   ]
  },
  {
   "cell_type": "markdown",
   "metadata": {},
   "source": [
    "### 3. analyse impact of location and features  of a listing on price"
   ]
  },
  {
   "cell_type": "code",
   "execution_count": 51,
   "metadata": {},
   "outputs": [
    {
     "data": {
      "text/plain": [
       "150.0    162\n",
       "100.0    159\n",
       "75.0     118\n",
       "95.0     110\n",
       "99.0     110\n",
       "        ... \n",
       "207.0      1\n",
       "254.0      1\n",
       "178.0      1\n",
       "186.0      1\n",
       "775.0      1\n",
       "Name: price_f, Length: 273, dtype: int64"
      ]
     },
     "execution_count": 51,
     "metadata": {},
     "output_type": "execute_result"
    }
   ],
   "source": [
    "# conversion of 'price' in listings dataset\n",
    "listings_s_feat_df['price_f']=listings_s_feat_df['price'].str.replace('$','').str.replace(',','').astype(float)\n",
    "\n",
    "# examining major price points of listings\n",
    "price_s_c=listings_s_feat_df['price_f'].value_counts()\n",
    "price_s_c"
   ]
  },
  {
   "cell_type": "code",
   "execution_count": 52,
   "metadata": {},
   "outputs": [
    {
     "data": {
      "text/plain": [
       "Text(0.5, 0, 'Price')"
      ]
     },
     "execution_count": 52,
     "metadata": {},
     "output_type": "execute_result"
    },
    {
     "data": {
      "image/png": "[encoded data removed]",
      "text/plain": [
       "<Figure size 1008x504 with 1 Axes>"
      ]
     },
     "metadata": {
      "needs_background": "light"
     },
     "output_type": "display_data"
    }
   ],
   "source": [
    "# examining distribution of 'price'\n",
    "plt.figure(figsize=[14,7])\n",
    "x_ticks=np.arange(0, listings_s_feat_df['price_f'].max()+100,50)\n",
    "sb.boxplot(data=listings_s_feat_df, x='price_f')\n",
    "plt.xticks(x_ticks, x_ticks)\n",
    "plt.xlim(0, 800)\n",
    "plt.title('Distribution of prices of listings in Seattle')\n",
    "plt.xlabel('Price')\n"
   ]
  },
  {
   "cell_type": "code",
   "execution_count": 56,
   "metadata": {
    "scrolled": true
   },
   "outputs": [
    {
     "name": "stdout",
     "output_type": "stream",
     "text": [
      "property_type\n",
      "Boat               282.375000\n",
      "Condominium        151.109890\n",
      "Loft               135.700000\n",
      "House              132.351414\n",
      "Townhouse          129.457627\n",
      "Apartment          122.932670\n",
      "Camper/RV          120.461538\n",
      "Bungalow           115.615385\n",
      "Bed & Breakfast    112.054054\n",
      "Cabin              104.666667\n",
      "Treehouse          101.000000\n",
      "Yurt               100.000000\n",
      "Chalet              98.500000\n",
      "Other               94.681818\n",
      "Tent                54.000000\n",
      "Dorm                39.500000\n",
      "Name: price_f, dtype: float64\n"
     ]
    },
    {
     "data": {
      "image/png": "[encoded data removed]",
      "text/plain": [
       "<Figure size 432x288 with 1 Axes>"
      ]
     },
     "metadata": {
      "needs_background": "light"
     },
     "output_type": "display_data"
    }
   ],
   "source": [
    "# examining impact of 'property_type' on 'price'\n",
    "price_s_per_property_type=listings_s_feat_df.groupby('property_type')['price_f'].mean().sort_values(ascending=False)\n",
    "print(price_s_per_property_type)\n",
    "price_s_per_property_type.plot(kind='bar')\n",
    "\n",
    "plt.title('Average prices for different property types')\n",
    "plt.xlabel('Property type')\n",
    "plt.ylabel('Average price');"
   ]
  },
  {
   "cell_type": "code",
   "execution_count": 64,
   "metadata": {},
   "outputs": [
    {
     "data": {
      "image/png": "[encoded data removed]",
      "text/plain": [
       "<Figure size 1296x1152 with 1 Axes>"
      ]
     },
     "metadata": {
      "needs_background": "light"
     },
     "output_type": "display_data"
    }
   ],
   "source": [
    "plt.figure(figsize=[18,16])\n",
    "cat_order=prop_type_s_perc.index\n",
    "\n",
    "sb.boxplot(data=listings_s_feat_df, x='price_f', y='property_type', color=base_color, order=cat_order)\n",
    "plt.xlim(0,800)\n",
    "plt.title('Distribution of prices for different property types')\n",
    "plt.xlabel('Price')\n",
    "plt.ylabel('Property type');"
   ]
  },
  {
   "cell_type": "code",
   "execution_count": 65,
   "metadata": {
    "scrolled": true
   },
   "outputs": [
    {
     "name": "stdout",
     "output_type": "stream",
     "text": [
      "room_type\n",
      "Entire home/apt    155.843369\n",
      "Private room        75.044828\n",
      "Shared room         47.547009\n",
      "Name: price_f, dtype: float64\n"
     ]
    },
    {
     "data": {
      "image/png": "[encoded data removed]",
      "text/plain": [
       "<Figure size 432x288 with 1 Axes>"
      ]
     },
     "metadata": {
      "needs_background": "light"
     },
     "output_type": "display_data"
    }
   ],
   "source": [
    "# examining impact of 'room_type' on 'price'\n",
    "price_s_per_room_type=listings_s_feat_df.groupby('room_type')['price_f'].mean().sort_values(ascending=False)\n",
    "print(price_s_per_room_type)\n",
    "price_s_per_room_type.plot(kind='bar')\n",
    "\n",
    "plt.title('Average prices for different room types')\n",
    "plt.xlabel('Room type')\n",
    "plt.ylabel('Average price');"
   ]
  },
  {
   "cell_type": "code",
   "execution_count": 66,
   "metadata": {},
   "outputs": [
    {
     "data": {
      "image/png": "[encoded data removed]",
      "text/plain": [
       "<Figure size 864x360 with 1 Axes>"
      ]
     },
     "metadata": {
      "needs_background": "light"
     },
     "output_type": "display_data"
    }
   ],
   "source": [
    "plt.figure(figsize=[12,5])\n",
    "cat_order=price_s_per_room_type.index\n",
    "\n",
    "x_ticks=np.arange(0,810,100)\n",
    "\n",
    "sb.boxplot(data=listings_s_feat_df, x='price_f', y='room_type', color=base_color, order=cat_order)\n",
    "plt.xticks([0,100,200,300,400,500,600,700,800],x_ticks)\n",
    "plt.xlim(0,800)\n",
    "\n",
    "plt.title('Distribution of prices for different room types')\n",
    "plt.xlabel('Price')\n",
    "plt.ylabel('Room type');\n"
   ]
  },
  {
   "cell_type": "code",
   "execution_count": 68,
   "metadata": {
    "scrolled": true
   },
   "outputs": [
    {
     "name": "stdout",
     "output_type": "stream",
     "text": [
      "bathrooms\n",
      "0.0     80.375000\n",
      "0.5     73.354839\n",
      "1.0    106.685982\n",
      "1.5    130.060484\n",
      "2.0    191.737265\n",
      "2.5    256.677419\n",
      "3.0    275.453125\n",
      "3.5    306.964912\n",
      "4.0    463.750000\n",
      "4.5    496.666667\n",
      "5.0    135.000000\n",
      "8.0     70.000000\n",
      "Name: price_f, dtype: float64\n"
     ]
    },
    {
     "data": {
      "image/png": "[encoded data removed]",
      "text/plain": [
       "<Figure size 432x288 with 1 Axes>"
      ]
     },
     "metadata": {
      "needs_background": "light"
     },
     "output_type": "display_data"
    }
   ],
   "source": [
    "# examining impact of 'bathrooms' on 'price'\n",
    "price_s_per_bathrooms=listings_s_feat_df.groupby('bathrooms')['price_f'].mean() \n",
    "print(price_s_per_bathrooms)\n",
    "price_s_per_bathrooms.plot(kind='bar')\n",
    "\n",
    "plt.title('Average prices for number of bathrooms')\n",
    "plt.xlabel('Number of bathrooms')\n",
    "plt.ylabel('Average price');\n"
   ]
  },
  {
   "cell_type": "code",
   "execution_count": 69,
   "metadata": {},
   "outputs": [
    {
     "name": "stdout",
     "output_type": "stream",
     "text": [
      "bathrooms\n",
      "0.0         NaN\n",
      "0.5   -0.087343\n",
      "1.0    0.454382\n",
      "1.5    0.219096\n",
      "2.0    0.474216\n",
      "2.5    0.338693\n",
      "3.0    0.073149\n",
      "3.5    0.114400\n",
      "4.0    0.510759\n",
      "4.5    0.070979\n",
      "5.0   -0.728188\n",
      "8.0   -0.481481\n",
      "Name: price_f, dtype: float64\n"
     ]
    },
    {
     "data": {
      "image/png": "[encoded data removed]",
      "text/plain": [
       "<Figure size 432x288 with 1 Axes>"
      ]
     },
     "metadata": {
      "needs_background": "light"
     },
     "output_type": "display_data"
    }
   ],
   "source": [
    "price_s_per_bathrooms_perc_ch=listings_s_feat_df.groupby('bathrooms')['price_f'].mean().pct_change() \n",
    "print(price_s_per_bathrooms_perc_ch)\n",
    "price_s_per_bathrooms_perc_ch.plot(kind='bar')\n",
    "\n",
    "plt.title('Precentage change of average price for number of bathrooms')\n",
    "plt.xlabel('Number of bathrooms')\n",
    "plt.ylabel('Percentage change');"
   ]
  },
  {
   "cell_type": "code",
   "execution_count": 71,
   "metadata": {
    "scrolled": true
   },
   "outputs": [
    {
     "name": "stdout",
     "output_type": "stream",
     "text": [
      "bedrooms\n",
      "0.0    103.548387\n",
      "1.0     95.706247\n",
      "2.0    174.062500\n",
      "3.0    249.530035\n",
      "4.0    313.695652\n",
      "5.0    441.000000\n",
      "6.0    578.166667\n",
      "7.0    375.000000\n",
      "Name: price_f, dtype: float64\n"
     ]
    },
    {
     "data": {
      "image/png": "[encoded data removed]",
      "text/plain": [
       "<Figure size 432x288 with 1 Axes>"
      ]
     },
     "metadata": {
      "needs_background": "light"
     },
     "output_type": "display_data"
    }
   ],
   "source": [
    "# examining impact of 'bedrooms' on 'price'\n",
    "price_s_per_bedrooms=listings_s_feat_df.groupby('bedrooms')['price_f'].mean() \n",
    "print(price_s_per_bedrooms)\n",
    "price_s_per_bedrooms.plot(kind='bar')\n",
    "\n",
    "plt.title('Average prices for number of bedrooms')\n",
    "plt.xlabel('Number of bedrooms')\n",
    "plt.ylabel('Average price');"
   ]
  },
  {
   "cell_type": "code",
   "execution_count": 72,
   "metadata": {},
   "outputs": [
    {
     "name": "stdout",
     "output_type": "stream",
     "text": [
      "bedrooms\n",
      "0.0         NaN\n",
      "1.0   -0.075734\n",
      "2.0    0.818716\n",
      "3.0    0.433566\n",
      "4.0    0.257146\n",
      "5.0    0.405821\n",
      "6.0    0.311036\n",
      "7.0   -0.351398\n",
      "Name: price_f, dtype: float64\n"
     ]
    },
    {
     "data": {
      "image/png": "[encoded data removed]",
      "text/plain": [
       "<Figure size 432x288 with 1 Axes>"
      ]
     },
     "metadata": {
      "needs_background": "light"
     },
     "output_type": "display_data"
    }
   ],
   "source": [
    "price_s_per_bedroom_perc_ch=listings_s_feat_df.groupby('bedrooms')['price_f'].mean().pct_change() \n",
    "print(price_s_per_bedroom_perc_ch)\n",
    "price_s_per_bedroom_perc_ch.plot(kind='bar')\n",
    "\n",
    "plt.title('Precentage change of average price for number of bedrooms')\n",
    "plt.xlabel('Number of bedrooms')\n",
    "plt.ylabel('Percentage change');"
   ]
  },
  {
   "cell_type": "code",
   "execution_count": 73,
   "metadata": {
    "scrolled": true
   },
   "outputs": [
    {
     "name": "stdout",
     "output_type": "stream",
     "text": [
      "beds\n",
      "1.0      93.149478\n",
      "2.0     136.791667\n",
      "3.0     195.207852\n",
      "4.0     233.236842\n",
      "5.0     308.986301\n",
      "6.0     312.857143\n",
      "7.0     392.642857\n",
      "8.0     213.500000\n",
      "9.0     504.250000\n",
      "10.0    312.500000\n",
      "15.0    461.000000\n",
      "Name: price_f, dtype: float64\n"
     ]
    },
    {
     "data": {
      "image/png": "[encoded data removed]",
      "text/plain": [
       "<Figure size 432x288 with 1 Axes>"
      ]
     },
     "metadata": {
      "needs_background": "light"
     },
     "output_type": "display_data"
    }
   ],
   "source": [
    "# examining impact of 'beds' on 'price'\n",
    "price_s_per_beds=listings_s_feat_df.groupby('beds')['price_f'].mean() \n",
    "print(price_s_per_beds)\n",
    "price_s_per_beds.plot(kind='bar')\n",
    "\n",
    "plt.title('Average prices for number of beds')\n",
    "plt.xlabel('Number of beds')\n",
    "plt.ylabel('Average price');"
   ]
  },
  {
   "cell_type": "code",
   "execution_count": 74,
   "metadata": {},
   "outputs": [
    {
     "name": "stdout",
     "output_type": "stream",
     "text": [
      "bed_type\n",
      "Real Bed         130.368882\n",
      "Pull-out Sofa     77.276596\n",
      "Airbed            73.962963\n",
      "Futon             72.824324\n",
      "Couch             64.307692\n",
      "Name: price_f, dtype: float64\n"
     ]
    },
    {
     "data": {
      "image/png": "[encoded data removed]",
      "text/plain": [
       "<Figure size 432x288 with 1 Axes>"
      ]
     },
     "metadata": {
      "needs_background": "light"
     },
     "output_type": "display_data"
    }
   ],
   "source": [
    "# examining impact of 'bed_type' on 'price'\n",
    "price_s_per_bed_type=listings_s_feat_df.groupby('bed_type')['price_f'].mean().sort_values(ascending=False)\n",
    "print(price_s_per_bed_type)\n",
    "price_s_per_bed_type.plot(kind='bar')\n",
    "\n",
    "plt.title('Average prices for listings with different bed types')\n",
    "plt.xlabel('Bed type in listing')\n",
    "plt.ylabel('Average price');"
   ]
  },
  {
   "cell_type": "code",
   "execution_count": 75,
   "metadata": {},
   "outputs": [
    {
     "name": "stdout",
     "output_type": "stream",
     "text": [
      "neighbourhood\n",
      "Alki             196.652174\n",
      "Belltown         166.627451\n",
      "Broadway         128.400000\n",
      "Ballard          123.615023\n",
      "Arbor Heights    118.000000\n",
      "Atlantic         116.280000\n",
      "Bryant           104.500000\n",
      "Broadview        102.875000\n",
      "Bitter Lake       78.846154\n",
      "Brighton          78.000000\n",
      "Name: price_f, dtype: float64\n"
     ]
    },
    {
     "data": {
      "image/png": "[encoded data removed]",
      "text/plain": [
       "<Figure size 432x288 with 1 Axes>"
      ]
     },
     "metadata": {
      "needs_background": "light"
     },
     "output_type": "display_data"
    }
   ],
   "source": [
    "# examining impact of 'neighbourhood' on 'price'\n",
    "price_s_per_neighbourhood=listings_s_feat_df.groupby('neighbourhood')['price_f'].mean()[:10].sort_values(ascending=False)\n",
    "print(price_s_per_neighbourhood)\n",
    "price_s_per_neighbourhood.plot(kind='bar')\n",
    "\n",
    "plt.title('Average prices for top 10 neighbourhoods')\n",
    "plt.xlabel('Neighbourhood')\n",
    "plt.ylabel('Average price');"
   ]
  },
  {
   "cell_type": "code",
   "execution_count": 76,
   "metadata": {},
   "outputs": [
    {
     "name": "stdout",
     "output_type": "stream",
     "text": [
      "neighbourhood_cleansed\n",
      "Briarcliff       176.571429\n",
      "Alki             171.619048\n",
      "Belltown         162.893162\n",
      "Arbor Heights    126.800000\n",
      "Broadway         123.889169\n",
      "Adams            121.671429\n",
      "Atlantic         111.396226\n",
      "Broadview         94.705882\n",
      "Brighton          91.230769\n",
      "Bitter Lake       83.000000\n",
      "Name: price_f, dtype: float64\n"
     ]
    },
    {
     "data": {
      "image/png": "[encoded data removed]",
      "text/plain": [
       "<Figure size 432x288 with 1 Axes>"
      ]
     },
     "metadata": {
      "needs_background": "light"
     },
     "output_type": "display_data"
    }
   ],
   "source": [
    "# examining impact of 'neighbourhood_cleansed' on 'price'\n",
    "price_s_per_neighbourhood_cleansed=listings_s_feat_df.groupby('neighbourhood_cleansed')['price_f'].mean()[:10].sort_values(ascending=False)\n",
    "print(price_s_per_neighbourhood_cleansed)\n",
    "price_s_per_neighbourhood_cleansed.plot(kind='bar')\n",
    "\n",
    "plt.title('Average prices for top 10 neighbourhood cleansed')\n",
    "plt.xlabel('Neighbourhood cleansed')\n",
    "plt.ylabel('Average price');"
   ]
  },
  {
   "cell_type": "code",
   "execution_count": 77,
   "metadata": {},
   "outputs": [
    {
     "name": "stdout",
     "output_type": "stream",
     "text": [
      "neighbourhood_group_cleansed\n",
      "Magnolia        177.672131\n",
      "Downtown        154.405660\n",
      "Cascade         140.101124\n",
      "Capitol Hill    130.592593\n",
      "Central Area    128.338753\n",
      "Ballard         124.682609\n",
      "Interbay        109.727273\n",
      "Beacon Hill      94.669492\n",
      "Lake City        92.671642\n",
      "Delridge         83.278481\n",
      "Name: price_f, dtype: float64\n"
     ]
    },
    {
     "data": {
      "image/png": "[encoded data removed]",
      "text/plain": [
       "<Figure size 432x288 with 1 Axes>"
      ]
     },
     "metadata": {
      "needs_background": "light"
     },
     "output_type": "display_data"
    }
   ],
   "source": [
    "# examining impact of 'neighbourhood_group_cleansed' on 'price'\n",
    "price_s_per_neighbourhood_group_cleansed=listings_s_feat_df.groupby('neighbourhood_group_cleansed')['price_f'].mean()[:10].sort_values(ascending=False)\n",
    "print(price_s_per_neighbourhood_group_cleansed)\n",
    "price_s_per_neighbourhood_group_cleansed.plot(kind='bar')\n",
    "\n",
    "plt.title('Average prices for top 10 neighbourhood group')\n",
    "plt.xlabel('Neighbourhood group')\n",
    "plt.ylabel('Average price');"
   ]
  },
  {
   "cell_type": "code",
   "execution_count": 78,
   "metadata": {},
   "outputs": [
    {
     "name": "stdout",
     "output_type": "stream",
     "text": [
      "city\n",
      "Seattle                  128.052231\n",
      "Ballard, Seattle         116.000000\n",
      "West Seattle             110.000000\n",
      "seattle                  105.000000\n",
      "Seattle                   97.500000\n",
      "Phinney Ridge Seattle     60.000000\n",
      "西雅图                       38.000000\n",
      "Name: price_f, dtype: float64\n"
     ]
    },
    {
     "name": "stderr",
     "output_type": "stream",
     "text": [
      "C:\\Users\\User\\AppData\\Roaming\\Python\\Python38\\site-packages\\matplotlib\\backends\\backend_agg.py:238: RuntimeWarning: Glyph 35199 missing from current font.\n",
      "  font.set_text(s, 0.0, flags=flags)\n",
      "C:\\Users\\User\\AppData\\Roaming\\Python\\Python38\\site-packages\\matplotlib\\backends\\backend_agg.py:238: RuntimeWarning: Glyph 38597 missing from current font.\n",
      "  font.set_text(s, 0.0, flags=flags)\n",
      "C:\\Users\\User\\AppData\\Roaming\\Python\\Python38\\site-packages\\matplotlib\\backends\\backend_agg.py:238: RuntimeWarning: Glyph 22270 missing from current font.\n",
      "  font.set_text(s, 0.0, flags=flags)\n",
      "C:\\Users\\User\\AppData\\Roaming\\Python\\Python38\\site-packages\\matplotlib\\backends\\backend_agg.py:201: RuntimeWarning: Glyph 35199 missing from current font.\n",
      "  font.set_text(s, 0, flags=flags)\n",
      "C:\\Users\\User\\AppData\\Roaming\\Python\\Python38\\site-packages\\matplotlib\\backends\\backend_agg.py:201: RuntimeWarning: Glyph 38597 missing from current font.\n",
      "  font.set_text(s, 0, flags=flags)\n",
      "C:\\Users\\User\\AppData\\Roaming\\Python\\Python38\\site-packages\\matplotlib\\backends\\backend_agg.py:201: RuntimeWarning: Glyph 22270 missing from current font.\n",
      "  font.set_text(s, 0, flags=flags)\n"
     ]
    },
    {
     "data": {
      "image/png": "[encoded data removed]",
      "text/plain": [
       "<Figure size 432x288 with 1 Axes>"
      ]
     },
     "metadata": {
      "needs_background": "light"
     },
     "output_type": "display_data"
    }
   ],
   "source": [
    "# examining impact of 'city' on 'price'\n",
    "price_s_per_city=listings_s_feat_df.groupby('city')['price_f'].mean().sort_values(ascending=False)\n",
    "print(price_s_per_city)\n",
    "price_s_per_city.plot(kind='bar');\n",
    "\n",
    "plt.title('Average prices for city')\n",
    "plt.xlabel('City')\n",
    "plt.ylabel('Average price');"
   ]
  },
  {
   "cell_type": "markdown",
   "metadata": {},
   "source": [
    "## Try to predict price based on location and features of a listing"
   ]
  },
  {
   "cell_type": "code",
   "execution_count": 55,
   "metadata": {},
   "outputs": [
    {
     "name": "stdout",
     "output_type": "stream",
     "text": [
      "<class 'pandas.core.frame.DataFrame'>\n",
      "RangeIndex: 3818 entries, 0 to 3817\n",
      "Data columns (total 13 columns):\n",
      " #   Column                        Non-Null Count  Dtype  \n",
      "---  ------                        --------------  -----  \n",
      " 0   listing_id                    3818 non-null   int64  \n",
      " 1   property_type                 3817 non-null   object \n",
      " 2   room_type                     3818 non-null   object \n",
      " 3   bathrooms                     3802 non-null   float64\n",
      " 4   bedrooms                      3812 non-null   float64\n",
      " 5   beds                          3817 non-null   float64\n",
      " 6   bed_type                      3818 non-null   object \n",
      " 7   neighbourhood                 3402 non-null   object \n",
      " 8   neighbourhood_cleansed        3818 non-null   object \n",
      " 9   neighbourhood_group_cleansed  3818 non-null   object \n",
      " 10  city                          3818 non-null   object \n",
      " 11  price                         3818 non-null   object \n",
      " 12  price_f                       3818 non-null   float64\n",
      "dtypes: float64(4), int64(1), object(8)\n",
      "memory usage: 268.5+ KB\n"
     ]
    }
   ],
   "source": [
    "#indetify columns with null values\n",
    "listings_s_feat_df.info()"
   ]
  },
  {
   "cell_type": "code",
   "execution_count": 67,
   "metadata": {},
   "outputs": [
    {
     "name": "stdout",
     "output_type": "stream",
     "text": [
      "['bathrooms', 'beds', 'neighbourhood', 'bedrooms', 'property_type']\n"
     ]
    },
    {
     "data": {
      "text/plain": [
       "(3795, 10)"
      ]
     },
     "execution_count": 67,
     "metadata": {},
     "output_type": "execute_result"
    }
   ],
   "source": [
    "#handle missing values in the dataset for the predicting model\n",
    "\n",
    "l=list(set(listings_s_feat_df.columns[listings_s_feat_df.isnull().mean() > 0]))\n",
    "print(l)\n",
    "\n",
    "listings_s_feat_df_notna=listings_s_feat_df[['listing_id','property_type','room_type','bathrooms','bedrooms','beds','bed_type','neighbourhood_cleansed','neighbourhood_group_cleansed','price_f']].dropna()\n",
    "\n",
    "listings_s_feat_df_notna.shape"
   ]
  },
  {
   "cell_type": "code",
   "execution_count": 68,
   "metadata": {},
   "outputs": [],
   "source": [
    "\n",
    "def create_dummy_df(df, cat_cols, dummy_na):\n",
    "    '''\n",
    "    INPUT:\n",
    "    df - pandas dataframe with categorical variables you want to dummy\n",
    "    cat_cols - list of strings that are associated with names of the categorical columns\n",
    "    dummy_na - Bool holding whether you want to dummy NA vals of categorical columns or not\n",
    "    \n",
    "    OUTPUT:\n",
    "    df - a new dataframe that has the following characteristics:\n",
    "            1. contains all columns that were not specified as categorical\n",
    "            2. removes all the original columns in cat_cols\n",
    "            3. dummy columns for each of the categorical columns in cat_cols\n",
    "            4. if dummy_na is True - it also contains dummy columns for the NaN values\n",
    "            5. Use a prefix of the column name with an underscore (_) for separating \n",
    "    '''\n",
    "    for col in  cat_cols:\n",
    "        try:\n",
    "            # for each cat add dummy var, drop original column\n",
    "            df = pd.concat([df.drop(col, axis=1), pd.get_dummies(df[col], prefix=col, prefix_sep='_', drop_first=True, dummy_na=dummy_na)], axis=1)\n",
    "        except:\n",
    "            continue\n",
    "    return df"
   ]
  },
  {
   "cell_type": "code",
   "execution_count": 69,
   "metadata": {},
   "outputs": [
    {
     "data": {
      "text/html": [
       "<div>\n",
       "<style scoped>\n",
       "    .dataframe tbody tr th:only-of-type {\n",
       "        vertical-align: middle;\n",
       "    }\n",
       "\n",
       "    .dataframe tbody tr th {\n",
       "        vertical-align: top;\n",
       "    }\n",
       "\n",
       "    .dataframe thead th {\n",
       "        text-align: right;\n",
       "    }\n",
       "</style>\n",
       "<table border=\"1\" class=\"dataframe\">\n",
       "  <thead>\n",
       "    <tr style=\"text-align: right;\">\n",
       "      <th></th>\n",
       "      <th>listing_id</th>\n",
       "      <th>bathrooms</th>\n",
       "      <th>bedrooms</th>\n",
       "      <th>beds</th>\n",
       "      <th>price_f</th>\n",
       "      <th>property_type_Bed &amp; Breakfast</th>\n",
       "      <th>property_type_Boat</th>\n",
       "      <th>property_type_Bungalow</th>\n",
       "      <th>property_type_Cabin</th>\n",
       "      <th>property_type_Camper/RV</th>\n",
       "      <th>...</th>\n",
       "      <th>neighbourhood_group_cleansed_Interbay</th>\n",
       "      <th>neighbourhood_group_cleansed_Lake City</th>\n",
       "      <th>neighbourhood_group_cleansed_Magnolia</th>\n",
       "      <th>neighbourhood_group_cleansed_Northgate</th>\n",
       "      <th>neighbourhood_group_cleansed_Other neighborhoods</th>\n",
       "      <th>neighbourhood_group_cleansed_Queen Anne</th>\n",
       "      <th>neighbourhood_group_cleansed_Rainier Valley</th>\n",
       "      <th>neighbourhood_group_cleansed_Seward Park</th>\n",
       "      <th>neighbourhood_group_cleansed_University District</th>\n",
       "      <th>neighbourhood_group_cleansed_West Seattle</th>\n",
       "    </tr>\n",
       "  </thead>\n",
       "  <tbody>\n",
       "    <tr>\n",
       "      <th>0</th>\n",
       "      <td>241032</td>\n",
       "      <td>1.0</td>\n",
       "      <td>1.0</td>\n",
       "      <td>1.0</td>\n",
       "      <td>85.0</td>\n",
       "      <td>0</td>\n",
       "      <td>0</td>\n",
       "      <td>0</td>\n",
       "      <td>0</td>\n",
       "      <td>0</td>\n",
       "      <td>...</td>\n",
       "      <td>0</td>\n",
       "      <td>0</td>\n",
       "      <td>0</td>\n",
       "      <td>0</td>\n",
       "      <td>0</td>\n",
       "      <td>1</td>\n",
       "      <td>0</td>\n",
       "      <td>0</td>\n",
       "      <td>0</td>\n",
       "      <td>0</td>\n",
       "    </tr>\n",
       "    <tr>\n",
       "      <th>1</th>\n",
       "      <td>953595</td>\n",
       "      <td>1.0</td>\n",
       "      <td>1.0</td>\n",
       "      <td>1.0</td>\n",
       "      <td>150.0</td>\n",
       "      <td>0</td>\n",
       "      <td>0</td>\n",
       "      <td>0</td>\n",
       "      <td>0</td>\n",
       "      <td>0</td>\n",
       "      <td>...</td>\n",
       "      <td>0</td>\n",
       "      <td>0</td>\n",
       "      <td>0</td>\n",
       "      <td>0</td>\n",
       "      <td>0</td>\n",
       "      <td>1</td>\n",
       "      <td>0</td>\n",
       "      <td>0</td>\n",
       "      <td>0</td>\n",
       "      <td>0</td>\n",
       "    </tr>\n",
       "    <tr>\n",
       "      <th>2</th>\n",
       "      <td>3308979</td>\n",
       "      <td>4.5</td>\n",
       "      <td>5.0</td>\n",
       "      <td>7.0</td>\n",
       "      <td>975.0</td>\n",
       "      <td>0</td>\n",
       "      <td>0</td>\n",
       "      <td>0</td>\n",
       "      <td>0</td>\n",
       "      <td>0</td>\n",
       "      <td>...</td>\n",
       "      <td>0</td>\n",
       "      <td>0</td>\n",
       "      <td>0</td>\n",
       "      <td>0</td>\n",
       "      <td>0</td>\n",
       "      <td>1</td>\n",
       "      <td>0</td>\n",
       "      <td>0</td>\n",
       "      <td>0</td>\n",
       "      <td>0</td>\n",
       "    </tr>\n",
       "    <tr>\n",
       "      <th>3</th>\n",
       "      <td>7421966</td>\n",
       "      <td>1.0</td>\n",
       "      <td>0.0</td>\n",
       "      <td>2.0</td>\n",
       "      <td>100.0</td>\n",
       "      <td>0</td>\n",
       "      <td>0</td>\n",
       "      <td>0</td>\n",
       "      <td>0</td>\n",
       "      <td>0</td>\n",
       "      <td>...</td>\n",
       "      <td>0</td>\n",
       "      <td>0</td>\n",
       "      <td>0</td>\n",
       "      <td>0</td>\n",
       "      <td>0</td>\n",
       "      <td>1</td>\n",
       "      <td>0</td>\n",
       "      <td>0</td>\n",
       "      <td>0</td>\n",
       "      <td>0</td>\n",
       "    </tr>\n",
       "    <tr>\n",
       "      <th>4</th>\n",
       "      <td>278830</td>\n",
       "      <td>2.0</td>\n",
       "      <td>3.0</td>\n",
       "      <td>3.0</td>\n",
       "      <td>450.0</td>\n",
       "      <td>0</td>\n",
       "      <td>0</td>\n",
       "      <td>0</td>\n",
       "      <td>0</td>\n",
       "      <td>0</td>\n",
       "      <td>...</td>\n",
       "      <td>0</td>\n",
       "      <td>0</td>\n",
       "      <td>0</td>\n",
       "      <td>0</td>\n",
       "      <td>0</td>\n",
       "      <td>1</td>\n",
       "      <td>0</td>\n",
       "      <td>0</td>\n",
       "      <td>0</td>\n",
       "      <td>0</td>\n",
       "    </tr>\n",
       "  </tbody>\n",
       "</table>\n",
       "<p>5 rows × 128 columns</p>\n",
       "</div>"
      ],
      "text/plain": [
       "   listing_id  bathrooms  bedrooms  beds  price_f  \\\n",
       "0      241032        1.0       1.0   1.0     85.0   \n",
       "1      953595        1.0       1.0   1.0    150.0   \n",
       "2     3308979        4.5       5.0   7.0    975.0   \n",
       "3     7421966        1.0       0.0   2.0    100.0   \n",
       "4      278830        2.0       3.0   3.0    450.0   \n",
       "\n",
       "   property_type_Bed & Breakfast  property_type_Boat  property_type_Bungalow  \\\n",
       "0                              0                   0                       0   \n",
       "1                              0                   0                       0   \n",
       "2                              0                   0                       0   \n",
       "3                              0                   0                       0   \n",
       "4                              0                   0                       0   \n",
       "\n",
       "   property_type_Cabin  property_type_Camper/RV  ...  \\\n",
       "0                    0                        0  ...   \n",
       "1                    0                        0  ...   \n",
       "2                    0                        0  ...   \n",
       "3                    0                        0  ...   \n",
       "4                    0                        0  ...   \n",
       "\n",
       "   neighbourhood_group_cleansed_Interbay  \\\n",
       "0                                      0   \n",
       "1                                      0   \n",
       "2                                      0   \n",
       "3                                      0   \n",
       "4                                      0   \n",
       "\n",
       "   neighbourhood_group_cleansed_Lake City  \\\n",
       "0                                       0   \n",
       "1                                       0   \n",
       "2                                       0   \n",
       "3                                       0   \n",
       "4                                       0   \n",
       "\n",
       "   neighbourhood_group_cleansed_Magnolia  \\\n",
       "0                                      0   \n",
       "1                                      0   \n",
       "2                                      0   \n",
       "3                                      0   \n",
       "4                                      0   \n",
       "\n",
       "   neighbourhood_group_cleansed_Northgate  \\\n",
       "0                                       0   \n",
       "1                                       0   \n",
       "2                                       0   \n",
       "3                                       0   \n",
       "4                                       0   \n",
       "\n",
       "   neighbourhood_group_cleansed_Other neighborhoods  \\\n",
       "0                                                 0   \n",
       "1                                                 0   \n",
       "2                                                 0   \n",
       "3                                                 0   \n",
       "4                                                 0   \n",
       "\n",
       "   neighbourhood_group_cleansed_Queen Anne  \\\n",
       "0                                        1   \n",
       "1                                        1   \n",
       "2                                        1   \n",
       "3                                        1   \n",
       "4                                        1   \n",
       "\n",
       "   neighbourhood_group_cleansed_Rainier Valley  \\\n",
       "0                                            0   \n",
       "1                                            0   \n",
       "2                                            0   \n",
       "3                                            0   \n",
       "4                                            0   \n",
       "\n",
       "   neighbourhood_group_cleansed_Seward Park  \\\n",
       "0                                         0   \n",
       "1                                         0   \n",
       "2                                         0   \n",
       "3                                         0   \n",
       "4                                         0   \n",
       "\n",
       "   neighbourhood_group_cleansed_University District  \\\n",
       "0                                                 0   \n",
       "1                                                 0   \n",
       "2                                                 0   \n",
       "3                                                 0   \n",
       "4                                                 0   \n",
       "\n",
       "   neighbourhood_group_cleansed_West Seattle  \n",
       "0                                          0  \n",
       "1                                          0  \n",
       "2                                          0  \n",
       "3                                          0  \n",
       "4                                          0  \n",
       "\n",
       "[5 rows x 128 columns]"
      ]
     },
     "execution_count": 69,
     "metadata": {},
     "output_type": "execute_result"
    }
   ],
   "source": [
    "#Pull a list of the column names of the categorical variables\n",
    "cat_df = listings_s_feat_df_notna.select_dtypes(include=['object'])\n",
    "cat_cols_lst = cat_df.columns\n",
    "df = listings_s_feat_df_notna\n",
    "\n",
    "df_new = create_dummy_df(df, cat_cols_lst, dummy_na=False) #Use your newly created function\n",
    "\n",
    "# Show a header of df_new to check\n",
    "df_new.head()"
   ]
  },
  {
   "cell_type": "code",
   "execution_count": 70,
   "metadata": {},
   "outputs": [
    {
     "data": {
      "text/plain": [
       "'The r-squared score for the model was 0.5517784299252901 on 1139 values.'"
      ]
     },
     "execution_count": 70,
     "metadata": {},
     "output_type": "execute_result"
    }
   ],
   "source": [
    "#Split into explanatory and response variables\n",
    "X = df_new.drop('price_f', axis=1)\n",
    "y = df_new['price_f']\n",
    "\n",
    "#Split into train and test\n",
    "X_train, X_test, y_train, y_test = train_test_split(X, y, test_size = .30, random_state=42) \n",
    "\n",
    "lm_model = LinearRegression(normalize=True) # Instantiate\n",
    "lm_model.fit(X_train, y_train) #Fit\n",
    "        \n",
    "#Predict and score the model\n",
    "y_test_preds = lm_model.predict(X_test) \n",
    "\"The r-squared score for the model was {} on {} values.\".format(r2_score(y_test, y_test_preds), len(y_test))"
   ]
  },
  {
   "cell_type": "code",
   "execution_count": 71,
   "metadata": {},
   "outputs": [
    {
     "data": {
      "text/html": [
       "<div>\n",
       "<style scoped>\n",
       "    .dataframe tbody tr th:only-of-type {\n",
       "        vertical-align: middle;\n",
       "    }\n",
       "\n",
       "    .dataframe tbody tr th {\n",
       "        vertical-align: top;\n",
       "    }\n",
       "\n",
       "    .dataframe thead th {\n",
       "        text-align: right;\n",
       "    }\n",
       "</style>\n",
       "<table border=\"1\" class=\"dataframe\">\n",
       "  <thead>\n",
       "    <tr style=\"text-align: right;\">\n",
       "      <th></th>\n",
       "      <th>est_int</th>\n",
       "      <th>coefs</th>\n",
       "      <th>abs_coefs</th>\n",
       "    </tr>\n",
       "  </thead>\n",
       "  <tbody>\n",
       "    <tr>\n",
       "      <th>120</th>\n",
       "      <td>neighbourhood_group_cleansed_Northgate</td>\n",
       "      <td>1.212475e+16</td>\n",
       "      <td>1.212475e+16</td>\n",
       "    </tr>\n",
       "    <tr>\n",
       "      <th>68</th>\n",
       "      <td>neighbourhood_cleansed_Matthews Beach</td>\n",
       "      <td>9.441099e+15</td>\n",
       "      <td>9.441099e+15</td>\n",
       "    </tr>\n",
       "    <tr>\n",
       "      <th>101</th>\n",
       "      <td>neighbourhood_cleansed_Victory Heights</td>\n",
       "      <td>9.441099e+15</td>\n",
       "      <td>9.441099e+15</td>\n",
       "    </tr>\n",
       "    <tr>\n",
       "      <th>35</th>\n",
       "      <td>neighbourhood_cleansed_Cedar Park</td>\n",
       "      <td>9.441099e+15</td>\n",
       "      <td>9.441099e+15</td>\n",
       "    </tr>\n",
       "    <tr>\n",
       "      <th>69</th>\n",
       "      <td>neighbourhood_cleansed_Meadowbrook</td>\n",
       "      <td>9.441099e+15</td>\n",
       "      <td>9.441099e+15</td>\n",
       "    </tr>\n",
       "    <tr>\n",
       "      <th>80</th>\n",
       "      <td>neighbourhood_cleansed_Olympic Hills</td>\n",
       "      <td>9.441099e+15</td>\n",
       "      <td>9.441099e+15</td>\n",
       "    </tr>\n",
       "    <tr>\n",
       "      <th>65</th>\n",
       "      <td>neighbourhood_cleansed_Madrona</td>\n",
       "      <td>8.688533e+15</td>\n",
       "      <td>8.688533e+15</td>\n",
       "    </tr>\n",
       "    <tr>\n",
       "      <th>52</th>\n",
       "      <td>neighbourhood_cleansed_Harrison/Denny-Blaine</td>\n",
       "      <td>8.688533e+15</td>\n",
       "      <td>8.688533e+15</td>\n",
       "    </tr>\n",
       "    <tr>\n",
       "      <th>71</th>\n",
       "      <td>neighbourhood_cleansed_Minor</td>\n",
       "      <td>8.688533e+15</td>\n",
       "      <td>8.688533e+15</td>\n",
       "    </tr>\n",
       "    <tr>\n",
       "      <th>61</th>\n",
       "      <td>neighbourhood_cleansed_Leschi</td>\n",
       "      <td>8.688533e+15</td>\n",
       "      <td>8.688533e+15</td>\n",
       "    </tr>\n",
       "    <tr>\n",
       "      <th>66</th>\n",
       "      <td>neighbourhood_cleansed_Mann</td>\n",
       "      <td>8.688533e+15</td>\n",
       "      <td>8.688533e+15</td>\n",
       "    </tr>\n",
       "    <tr>\n",
       "      <th>27</th>\n",
       "      <td>neighbourhood_cleansed_Atlantic</td>\n",
       "      <td>8.688533e+15</td>\n",
       "      <td>8.688533e+15</td>\n",
       "    </tr>\n",
       "    <tr>\n",
       "      <th>31</th>\n",
       "      <td>neighbourhood_cleansed_Brighton</td>\n",
       "      <td>8.578428e+15</td>\n",
       "      <td>8.578428e+15</td>\n",
       "    </tr>\n",
       "    <tr>\n",
       "      <th>37</th>\n",
       "      <td>neighbourhood_cleansed_Columbia City</td>\n",
       "      <td>8.578428e+15</td>\n",
       "      <td>8.578428e+15</td>\n",
       "    </tr>\n",
       "    <tr>\n",
       "      <th>73</th>\n",
       "      <td>neighbourhood_cleansed_Mount Baker</td>\n",
       "      <td>8.578428e+15</td>\n",
       "      <td>8.578428e+15</td>\n",
       "    </tr>\n",
       "    <tr>\n",
       "      <th>39</th>\n",
       "      <td>neighbourhood_cleansed_Dunlap</td>\n",
       "      <td>8.578428e+15</td>\n",
       "      <td>8.578428e+15</td>\n",
       "    </tr>\n",
       "    <tr>\n",
       "      <th>86</th>\n",
       "      <td>neighbourhood_cleansed_Rainier Beach</td>\n",
       "      <td>8.578428e+15</td>\n",
       "      <td>8.578428e+15</td>\n",
       "    </tr>\n",
       "    <tr>\n",
       "      <th>117</th>\n",
       "      <td>neighbourhood_group_cleansed_Interbay</td>\n",
       "      <td>3.518362e+15</td>\n",
       "      <td>3.518362e+15</td>\n",
       "    </tr>\n",
       "    <tr>\n",
       "      <th>105</th>\n",
       "      <td>neighbourhood_cleansed_West Queen Anne</td>\n",
       "      <td>3.062424e+15</td>\n",
       "      <td>3.062424e+15</td>\n",
       "    </tr>\n",
       "    <tr>\n",
       "      <th>62</th>\n",
       "      <td>neighbourhood_cleansed_Lower Queen Anne</td>\n",
       "      <td>3.062424e+15</td>\n",
       "      <td>3.062424e+15</td>\n",
       "    </tr>\n",
       "  </tbody>\n",
       "</table>\n",
       "</div>"
      ],
      "text/plain": [
       "                                          est_int         coefs     abs_coefs\n",
       "120        neighbourhood_group_cleansed_Northgate  1.212475e+16  1.212475e+16\n",
       "68          neighbourhood_cleansed_Matthews Beach  9.441099e+15  9.441099e+15\n",
       "101        neighbourhood_cleansed_Victory Heights  9.441099e+15  9.441099e+15\n",
       "35              neighbourhood_cleansed_Cedar Park  9.441099e+15  9.441099e+15\n",
       "69             neighbourhood_cleansed_Meadowbrook  9.441099e+15  9.441099e+15\n",
       "80           neighbourhood_cleansed_Olympic Hills  9.441099e+15  9.441099e+15\n",
       "65                 neighbourhood_cleansed_Madrona  8.688533e+15  8.688533e+15\n",
       "52   neighbourhood_cleansed_Harrison/Denny-Blaine  8.688533e+15  8.688533e+15\n",
       "71                   neighbourhood_cleansed_Minor  8.688533e+15  8.688533e+15\n",
       "61                  neighbourhood_cleansed_Leschi  8.688533e+15  8.688533e+15\n",
       "66                    neighbourhood_cleansed_Mann  8.688533e+15  8.688533e+15\n",
       "27                neighbourhood_cleansed_Atlantic  8.688533e+15  8.688533e+15\n",
       "31                neighbourhood_cleansed_Brighton  8.578428e+15  8.578428e+15\n",
       "37           neighbourhood_cleansed_Columbia City  8.578428e+15  8.578428e+15\n",
       "73             neighbourhood_cleansed_Mount Baker  8.578428e+15  8.578428e+15\n",
       "39                  neighbourhood_cleansed_Dunlap  8.578428e+15  8.578428e+15\n",
       "86           neighbourhood_cleansed_Rainier Beach  8.578428e+15  8.578428e+15\n",
       "117         neighbourhood_group_cleansed_Interbay  3.518362e+15  3.518362e+15\n",
       "105        neighbourhood_cleansed_West Queen Anne  3.062424e+15  3.062424e+15\n",
       "62        neighbourhood_cleansed_Lower Queen Anne  3.062424e+15  3.062424e+15"
      ]
     },
     "execution_count": 71,
     "metadata": {},
     "output_type": "execute_result"
    }
   ],
   "source": [
    "def coef_weights2(coefficients, X2_train):\n",
    "    '''\n",
    "    Function to get coefficients back for each of the features\n",
    "    INPUT:\n",
    "    coefficients - the coefficients of the linear model \n",
    "    X_train - the training data, so the column names can be used\n",
    "    OUTPUT:\n",
    "    coefs_df - a dataframe holding the coefficient, estimate, and abs(estimate)\n",
    "    \n",
    "    Provides a dataframe that can be used to understand the most influential coefficients\n",
    "    in a linear model by providing the coefficient estimates along with the name of the \n",
    "    variable attached to the coefficient.\n",
    "    '''\n",
    "    coefs2_df = pd.DataFrame()\n",
    "    coefs2_df['est_int'] = X2_train.columns\n",
    "    coefs2_df['coefs'] = lm_model.coef_\n",
    "    coefs2_df['abs_coefs'] = np.abs(lm_model.coef_)\n",
    "    coefs2_df = coefs2_df.sort_values('abs_coefs', ascending=False)\n",
    "    return coefs2_df\n",
    "\n",
    "#Use the function\n",
    "coef2_df = coef_weights2(lm_model.coef_, X_train)\n",
    "\n",
    "#A quick look at the top results\n",
    "coef2_df.sort_values(by='coefs', ascending = False).head(20)"
   ]
  },
  {
   "cell_type": "code",
   "execution_count": null,
   "metadata": {},
   "outputs": [],
   "source": []
  }
 ],
 "metadata": {
  "kernelspec": {
   "display_name": "Python 3",
   "language": "python",
   "name": "python3"
  },
  "language_info": {
   "codemirror_mode": {
    "name": "ipython",
    "version": 3
   },
   "file_extension": ".py",
   "mimetype": "text/x-python",
   "name": "python",
   "nbconvert_exporter": "python",
   "pygments_lexer": "ipython3",
   "version": "3.8.5"
  }
 },
 "nbformat": 4,
 "nbformat_minor": 4
}
